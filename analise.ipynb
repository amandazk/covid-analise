{
 "cells": [
  {
   "cell_type": "code",
   "execution_count": 2,
   "metadata": {},
   "outputs": [],
   "source": [
    "# Imports\n",
    "import pandas as pd\n",
    "import matplotlib.pyplot as plt\n",
    "import seaborn as sns"
   ]
  },
  {
   "cell_type": "code",
   "execution_count": 3,
   "metadata": {},
   "outputs": [
    {
     "data": {
      "text/html": [
       "<div>\n",
       "<style scoped>\n",
       "    .dataframe tbody tr th:only-of-type {\n",
       "        vertical-align: middle;\n",
       "    }\n",
       "\n",
       "    .dataframe tbody tr th {\n",
       "        vertical-align: top;\n",
       "    }\n",
       "\n",
       "    .dataframe thead th {\n",
       "        text-align: right;\n",
       "    }\n",
       "</style>\n",
       "<table border=\"1\" class=\"dataframe\">\n",
       "  <thead>\n",
       "    <tr style=\"text-align: right;\">\n",
       "      <th></th>\n",
       "      <th>Province/State</th>\n",
       "      <th>Country/Region</th>\n",
       "      <th>Lat</th>\n",
       "      <th>Long</th>\n",
       "      <th>1/22/20</th>\n",
       "      <th>1/23/20</th>\n",
       "      <th>1/24/20</th>\n",
       "      <th>1/25/20</th>\n",
       "      <th>1/26/20</th>\n",
       "      <th>1/27/20</th>\n",
       "      <th>...</th>\n",
       "      <th>5/16/21</th>\n",
       "      <th>5/17/21</th>\n",
       "      <th>5/18/21</th>\n",
       "      <th>5/19/21</th>\n",
       "      <th>5/20/21</th>\n",
       "      <th>5/21/21</th>\n",
       "      <th>5/22/21</th>\n",
       "      <th>5/23/21</th>\n",
       "      <th>5/24/21</th>\n",
       "      <th>5/25/21</th>\n",
       "    </tr>\n",
       "  </thead>\n",
       "  <tbody>\n",
       "    <tr>\n",
       "      <th>0</th>\n",
       "      <td>NaN</td>\n",
       "      <td>Afghanistan</td>\n",
       "      <td>33.93911</td>\n",
       "      <td>67.709953</td>\n",
       "      <td>0</td>\n",
       "      <td>0</td>\n",
       "      <td>0</td>\n",
       "      <td>0</td>\n",
       "      <td>0</td>\n",
       "      <td>0</td>\n",
       "      <td>...</td>\n",
       "      <td>63484</td>\n",
       "      <td>63598</td>\n",
       "      <td>63819</td>\n",
       "      <td>64122</td>\n",
       "      <td>64575</td>\n",
       "      <td>65080</td>\n",
       "      <td>65486</td>\n",
       "      <td>65728</td>\n",
       "      <td>66275</td>\n",
       "      <td>66903</td>\n",
       "    </tr>\n",
       "    <tr>\n",
       "      <th>1</th>\n",
       "      <td>NaN</td>\n",
       "      <td>Albania</td>\n",
       "      <td>41.15330</td>\n",
       "      <td>20.168300</td>\n",
       "      <td>0</td>\n",
       "      <td>0</td>\n",
       "      <td>0</td>\n",
       "      <td>0</td>\n",
       "      <td>0</td>\n",
       "      <td>0</td>\n",
       "      <td>...</td>\n",
       "      <td>132015</td>\n",
       "      <td>132032</td>\n",
       "      <td>132071</td>\n",
       "      <td>132095</td>\n",
       "      <td>132118</td>\n",
       "      <td>132153</td>\n",
       "      <td>132176</td>\n",
       "      <td>132209</td>\n",
       "      <td>132215</td>\n",
       "      <td>132229</td>\n",
       "    </tr>\n",
       "    <tr>\n",
       "      <th>2</th>\n",
       "      <td>NaN</td>\n",
       "      <td>Algeria</td>\n",
       "      <td>28.03390</td>\n",
       "      <td>1.659600</td>\n",
       "      <td>0</td>\n",
       "      <td>0</td>\n",
       "      <td>0</td>\n",
       "      <td>0</td>\n",
       "      <td>0</td>\n",
       "      <td>0</td>\n",
       "      <td>...</td>\n",
       "      <td>125311</td>\n",
       "      <td>125485</td>\n",
       "      <td>125693</td>\n",
       "      <td>125896</td>\n",
       "      <td>126156</td>\n",
       "      <td>126434</td>\n",
       "      <td>126651</td>\n",
       "      <td>126860</td>\n",
       "      <td>127107</td>\n",
       "      <td>127361</td>\n",
       "    </tr>\n",
       "    <tr>\n",
       "      <th>3</th>\n",
       "      <td>NaN</td>\n",
       "      <td>Andorra</td>\n",
       "      <td>42.50630</td>\n",
       "      <td>1.521800</td>\n",
       "      <td>0</td>\n",
       "      <td>0</td>\n",
       "      <td>0</td>\n",
       "      <td>0</td>\n",
       "      <td>0</td>\n",
       "      <td>0</td>\n",
       "      <td>...</td>\n",
       "      <td>13510</td>\n",
       "      <td>13555</td>\n",
       "      <td>13569</td>\n",
       "      <td>13569</td>\n",
       "      <td>13569</td>\n",
       "      <td>13569</td>\n",
       "      <td>13569</td>\n",
       "      <td>13569</td>\n",
       "      <td>13569</td>\n",
       "      <td>13664</td>\n",
       "    </tr>\n",
       "    <tr>\n",
       "      <th>4</th>\n",
       "      <td>NaN</td>\n",
       "      <td>Angola</td>\n",
       "      <td>-11.20270</td>\n",
       "      <td>17.873900</td>\n",
       "      <td>0</td>\n",
       "      <td>0</td>\n",
       "      <td>0</td>\n",
       "      <td>0</td>\n",
       "      <td>0</td>\n",
       "      <td>0</td>\n",
       "      <td>...</td>\n",
       "      <td>30637</td>\n",
       "      <td>30787</td>\n",
       "      <td>31045</td>\n",
       "      <td>31438</td>\n",
       "      <td>31661</td>\n",
       "      <td>31909</td>\n",
       "      <td>32149</td>\n",
       "      <td>32441</td>\n",
       "      <td>32623</td>\n",
       "      <td>32933</td>\n",
       "    </tr>\n",
       "  </tbody>\n",
       "</table>\n",
       "<p>5 rows × 494 columns</p>\n",
       "</div>"
      ],
      "text/plain": [
       "  Province/State Country/Region       Lat       Long  1/22/20  1/23/20  \\\n",
       "0            NaN    Afghanistan  33.93911  67.709953        0        0   \n",
       "1            NaN        Albania  41.15330  20.168300        0        0   \n",
       "2            NaN        Algeria  28.03390   1.659600        0        0   \n",
       "3            NaN        Andorra  42.50630   1.521800        0        0   \n",
       "4            NaN         Angola -11.20270  17.873900        0        0   \n",
       "\n",
       "   1/24/20  1/25/20  1/26/20  1/27/20  ...  5/16/21  5/17/21  5/18/21  \\\n",
       "0        0        0        0        0  ...    63484    63598    63819   \n",
       "1        0        0        0        0  ...   132015   132032   132071   \n",
       "2        0        0        0        0  ...   125311   125485   125693   \n",
       "3        0        0        0        0  ...    13510    13555    13569   \n",
       "4        0        0        0        0  ...    30637    30787    31045   \n",
       "\n",
       "   5/19/21  5/20/21  5/21/21  5/22/21  5/23/21  5/24/21  5/25/21  \n",
       "0    64122    64575    65080    65486    65728    66275    66903  \n",
       "1   132095   132118   132153   132176   132209   132215   132229  \n",
       "2   125896   126156   126434   126651   126860   127107   127361  \n",
       "3    13569    13569    13569    13569    13569    13569    13664  \n",
       "4    31438    31661    31909    32149    32441    32623    32933  \n",
       "\n",
       "[5 rows x 494 columns]"
      ]
     },
     "execution_count": 3,
     "metadata": {},
     "output_type": "execute_result"
    }
   ],
   "source": [
    "# Importando dados de casos confirmados\n",
    "confirmed = pd.read_csv(\"https://raw.githubusercontent.com/CSSEGISandData/COVID-19/master/csse_covid_19_data/csse_covid_19_time_series/time_series_covid19_confirmed_global.csv\")\n",
    "confirmed.head()"
   ]
  },
  {
   "cell_type": "code",
   "execution_count": 4,
   "metadata": {},
   "outputs": [
    {
     "data": {
      "text/plain": [
       "(275, 494)"
      ]
     },
     "execution_count": 4,
     "metadata": {},
     "output_type": "execute_result"
    }
   ],
   "source": [
    "# Quantidade de linhas e colunas\n",
    "confirmed.shape"
   ]
  },
  {
   "cell_type": "code",
   "execution_count": 5,
   "metadata": {},
   "outputs": [
    {
     "data": {
      "text/plain": [
       "0             Afghanistan\n",
       "1                 Albania\n",
       "2                 Algeria\n",
       "3                 Andorra\n",
       "4                  Angola\n",
       "              ...        \n",
       "270               Vietnam\n",
       "271    West Bank and Gaza\n",
       "272                 Yemen\n",
       "273                Zambia\n",
       "274              Zimbabwe\n",
       "Name: Country/Region, Length: 275, dtype: object"
      ]
     },
     "execution_count": 5,
     "metadata": {},
     "output_type": "execute_result"
    }
   ],
   "source": [
    "# Mostrar uma coluna específica\n",
    "confirmed[\"Country/Region\"]"
   ]
  },
  {
   "cell_type": "code",
   "execution_count": 6,
   "metadata": {},
   "outputs": [
    {
     "data": {
      "text/plain": [
       "0       56226\n",
       "1      122767\n",
       "2      116543\n",
       "3       11687\n",
       "4       21914\n",
       "        ...  \n",
       "270      2579\n",
       "271    232038\n",
       "272      3816\n",
       "273     87318\n",
       "274     36778\n",
       "Name: 3/25/21, Length: 275, dtype: int64"
      ]
     },
     "execution_count": 6,
     "metadata": {},
     "output_type": "execute_result"
    }
   ],
   "source": [
    "last_date = \"3/25/21\"\n",
    "confirmed[last_date]"
   ]
  },
  {
   "cell_type": "code",
   "execution_count": 7,
   "metadata": {},
   "outputs": [
    {
     "data": {
      "text/plain": [
       "array(['Afghanistan', 'Albania', 'Algeria', 'Andorra', 'Angola',\n",
       "       'Antigua and Barbuda', 'Argentina', 'Armenia', 'Australia',\n",
       "       'Austria', 'Azerbaijan', 'Bahamas', 'Bahrain', 'Bangladesh',\n",
       "       'Barbados', 'Belarus', 'Belgium', 'Belize', 'Benin', 'Bhutan',\n",
       "       'Bolivia', 'Bosnia and Herzegovina', 'Botswana', 'Brazil',\n",
       "       'Brunei', 'Bulgaria', 'Burkina Faso', 'Burma', 'Burundi',\n",
       "       'Cabo Verde', 'Cambodia', 'Cameroon', 'Canada',\n",
       "       'Central African Republic', 'Chad', 'Chile', 'China', 'Colombia',\n",
       "       'Comoros', 'Congo (Brazzaville)', 'Congo (Kinshasa)', 'Costa Rica',\n",
       "       \"Cote d'Ivoire\", 'Croatia', 'Cuba', 'Cyprus', 'Czechia', 'Denmark',\n",
       "       'Diamond Princess', 'Djibouti', 'Dominica', 'Dominican Republic',\n",
       "       'Ecuador', 'Egypt', 'El Salvador', 'Equatorial Guinea', 'Eritrea',\n",
       "       'Estonia', 'Eswatini', 'Ethiopia', 'Fiji', 'Finland', 'France',\n",
       "       'Gabon', 'Gambia', 'Georgia', 'Germany', 'Ghana', 'Greece',\n",
       "       'Grenada', 'Guatemala', 'Guinea', 'Guinea-Bissau', 'Guyana',\n",
       "       'Haiti', 'Holy See', 'Honduras', 'Hungary', 'Iceland', 'India',\n",
       "       'Indonesia', 'Iran', 'Iraq', 'Ireland', 'Israel', 'Italy',\n",
       "       'Jamaica', 'Japan', 'Jordan', 'Kazakhstan', 'Kenya',\n",
       "       'Korea, South', 'Kosovo', 'Kuwait', 'Kyrgyzstan', 'Laos', 'Latvia',\n",
       "       'Lebanon', 'Lesotho', 'Liberia', 'Libya', 'Liechtenstein',\n",
       "       'Lithuania', 'Luxembourg', 'MS Zaandam', 'Madagascar', 'Malawi',\n",
       "       'Malaysia', 'Maldives', 'Mali', 'Malta', 'Marshall Islands',\n",
       "       'Mauritania', 'Mauritius', 'Mexico', 'Micronesia', 'Moldova',\n",
       "       'Monaco', 'Mongolia', 'Montenegro', 'Morocco', 'Mozambique',\n",
       "       'Namibia', 'Nepal', 'Netherlands', 'New Zealand', 'Nicaragua',\n",
       "       'Niger', 'Nigeria', 'North Macedonia', 'Norway', 'Oman',\n",
       "       'Pakistan', 'Panama', 'Papua New Guinea', 'Paraguay', 'Peru',\n",
       "       'Philippines', 'Poland', 'Portugal', 'Qatar', 'Romania', 'Russia',\n",
       "       'Rwanda', 'Saint Kitts and Nevis', 'Saint Lucia',\n",
       "       'Saint Vincent and the Grenadines', 'Samoa', 'San Marino',\n",
       "       'Sao Tome and Principe', 'Saudi Arabia', 'Senegal', 'Serbia',\n",
       "       'Seychelles', 'Sierra Leone', 'Singapore', 'Slovakia', 'Slovenia',\n",
       "       'Solomon Islands', 'Somalia', 'South Africa', 'South Sudan',\n",
       "       'Spain', 'Sri Lanka', 'Sudan', 'Suriname', 'Sweden', 'Switzerland',\n",
       "       'Syria', 'Taiwan*', 'Tajikistan', 'Tanzania', 'Thailand',\n",
       "       'Timor-Leste', 'Togo', 'Trinidad and Tobago', 'Tunisia', 'Turkey',\n",
       "       'US', 'Uganda', 'Ukraine', 'United Arab Emirates',\n",
       "       'United Kingdom', 'Uruguay', 'Uzbekistan', 'Vanuatu', 'Venezuela',\n",
       "       'Vietnam', 'West Bank and Gaza', 'Yemen', 'Zambia', 'Zimbabwe'],\n",
       "      dtype=object)"
      ]
     },
     "execution_count": 7,
     "metadata": {},
     "output_type": "execute_result"
    }
   ],
   "source": [
    "# Países/Regiões atingidos\n",
    "confirmed[\"Country/Region\"].unique()"
   ]
  },
  {
   "cell_type": "code",
   "execution_count": 8,
   "metadata": {},
   "outputs": [
    {
     "data": {
      "text/plain": [
       "Province/State            NaN\n",
       "Country/Region    Afghanistan\n",
       "Lat                   33.9391\n",
       "Long                    67.71\n",
       "1/22/20                     0\n",
       "                     ...     \n",
       "5/21/21                 65080\n",
       "5/22/21                 65486\n",
       "5/23/21                 65728\n",
       "5/24/21                 66275\n",
       "5/25/21                 66903\n",
       "Name: 0, Length: 494, dtype: object"
      ]
     },
     "execution_count": 8,
     "metadata": {},
     "output_type": "execute_result"
    }
   ],
   "source": [
    "# Pegar a primeira linha do dataset\n",
    "confirmed.iloc[0]"
   ]
  },
  {
   "cell_type": "code",
   "execution_count": 9,
   "metadata": {},
   "outputs": [
    {
     "data": {
      "text/plain": [
       "Country/Region      China\n",
       "Lat               31.8257\n",
       "Long              117.226\n",
       "1/22/20                 1\n",
       "1/23/20                 9\n",
       "                   ...   \n",
       "5/21/21              1001\n",
       "5/22/21              1002\n",
       "5/23/21              1002\n",
       "5/24/21              1004\n",
       "5/25/21              1004\n",
       "Name: Anhui, Length: 493, dtype: object"
      ]
     },
     "execution_count": 9,
     "metadata": {},
     "output_type": "execute_result"
    }
   ],
   "source": [
    "# Colocar Province/State como index e procurar por \"Anhui\"\n",
    "confirmed.set_index(\"Province/State\").loc[\"Anhui\"]"
   ]
  },
  {
   "cell_type": "markdown",
   "metadata": {},
   "source": [
    "Dica: loc localiza pelo indice e iloc localiza pela linha"
   ]
  },
  {
   "cell_type": "code",
   "execution_count": 10,
   "metadata": {},
   "outputs": [
    {
     "data": {
      "text/plain": [
       "China              34\n",
       "Canada             16\n",
       "United Kingdom     12\n",
       "France             12\n",
       "Australia           8\n",
       "                   ..\n",
       "Czechia             1\n",
       "Serbia              1\n",
       "Mauritius           1\n",
       "North Macedonia     1\n",
       "Kuwait              1\n",
       "Name: Country/Region, Length: 192, dtype: int64"
      ]
     },
     "execution_count": 10,
     "metadata": {},
     "output_type": "execute_result"
    }
   ],
   "source": [
    "# Contar os valores\n",
    "# Não podemos considerar essa análise, pois contém muitos campos vazios (muita disparidade no padrão)\n",
    "confirmed[\"Country/Region\"].value_counts()"
   ]
  },
  {
   "cell_type": "code",
   "execution_count": 11,
   "metadata": {},
   "outputs": [
    {
     "data": {
      "text/html": [
       "<div>\n",
       "<style scoped>\n",
       "    .dataframe tbody tr th:only-of-type {\n",
       "        vertical-align: middle;\n",
       "    }\n",
       "\n",
       "    .dataframe tbody tr th {\n",
       "        vertical-align: top;\n",
       "    }\n",
       "\n",
       "    .dataframe thead th {\n",
       "        text-align: right;\n",
       "    }\n",
       "</style>\n",
       "<table border=\"1\" class=\"dataframe\">\n",
       "  <thead>\n",
       "    <tr style=\"text-align: right;\">\n",
       "      <th></th>\n",
       "      <th>Lat</th>\n",
       "      <th>Long</th>\n",
       "      <th>1/22/20</th>\n",
       "      <th>1/23/20</th>\n",
       "      <th>1/24/20</th>\n",
       "      <th>1/25/20</th>\n",
       "      <th>1/26/20</th>\n",
       "      <th>1/27/20</th>\n",
       "      <th>1/28/20</th>\n",
       "      <th>1/29/20</th>\n",
       "      <th>...</th>\n",
       "      <th>5/16/21</th>\n",
       "      <th>5/17/21</th>\n",
       "      <th>5/18/21</th>\n",
       "      <th>5/19/21</th>\n",
       "      <th>5/20/21</th>\n",
       "      <th>5/21/21</th>\n",
       "      <th>5/22/21</th>\n",
       "      <th>5/23/21</th>\n",
       "      <th>5/24/21</th>\n",
       "      <th>5/25/21</th>\n",
       "    </tr>\n",
       "    <tr>\n",
       "      <th>Country/Region</th>\n",
       "      <th></th>\n",
       "      <th></th>\n",
       "      <th></th>\n",
       "      <th></th>\n",
       "      <th></th>\n",
       "      <th></th>\n",
       "      <th></th>\n",
       "      <th></th>\n",
       "      <th></th>\n",
       "      <th></th>\n",
       "      <th></th>\n",
       "      <th></th>\n",
       "      <th></th>\n",
       "      <th></th>\n",
       "      <th></th>\n",
       "      <th></th>\n",
       "      <th></th>\n",
       "      <th></th>\n",
       "      <th></th>\n",
       "      <th></th>\n",
       "      <th></th>\n",
       "    </tr>\n",
       "  </thead>\n",
       "  <tbody>\n",
       "    <tr>\n",
       "      <th>Afghanistan</th>\n",
       "      <td>33.93911</td>\n",
       "      <td>67.709953</td>\n",
       "      <td>0</td>\n",
       "      <td>0</td>\n",
       "      <td>0</td>\n",
       "      <td>0</td>\n",
       "      <td>0</td>\n",
       "      <td>0</td>\n",
       "      <td>0</td>\n",
       "      <td>0</td>\n",
       "      <td>...</td>\n",
       "      <td>63484</td>\n",
       "      <td>63598</td>\n",
       "      <td>63819</td>\n",
       "      <td>64122</td>\n",
       "      <td>64575</td>\n",
       "      <td>65080</td>\n",
       "      <td>65486</td>\n",
       "      <td>65728</td>\n",
       "      <td>66275</td>\n",
       "      <td>66903</td>\n",
       "    </tr>\n",
       "    <tr>\n",
       "      <th>Albania</th>\n",
       "      <td>41.15330</td>\n",
       "      <td>20.168300</td>\n",
       "      <td>0</td>\n",
       "      <td>0</td>\n",
       "      <td>0</td>\n",
       "      <td>0</td>\n",
       "      <td>0</td>\n",
       "      <td>0</td>\n",
       "      <td>0</td>\n",
       "      <td>0</td>\n",
       "      <td>...</td>\n",
       "      <td>132015</td>\n",
       "      <td>132032</td>\n",
       "      <td>132071</td>\n",
       "      <td>132095</td>\n",
       "      <td>132118</td>\n",
       "      <td>132153</td>\n",
       "      <td>132176</td>\n",
       "      <td>132209</td>\n",
       "      <td>132215</td>\n",
       "      <td>132229</td>\n",
       "    </tr>\n",
       "    <tr>\n",
       "      <th>Algeria</th>\n",
       "      <td>28.03390</td>\n",
       "      <td>1.659600</td>\n",
       "      <td>0</td>\n",
       "      <td>0</td>\n",
       "      <td>0</td>\n",
       "      <td>0</td>\n",
       "      <td>0</td>\n",
       "      <td>0</td>\n",
       "      <td>0</td>\n",
       "      <td>0</td>\n",
       "      <td>...</td>\n",
       "      <td>125311</td>\n",
       "      <td>125485</td>\n",
       "      <td>125693</td>\n",
       "      <td>125896</td>\n",
       "      <td>126156</td>\n",
       "      <td>126434</td>\n",
       "      <td>126651</td>\n",
       "      <td>126860</td>\n",
       "      <td>127107</td>\n",
       "      <td>127361</td>\n",
       "    </tr>\n",
       "    <tr>\n",
       "      <th>Andorra</th>\n",
       "      <td>42.50630</td>\n",
       "      <td>1.521800</td>\n",
       "      <td>0</td>\n",
       "      <td>0</td>\n",
       "      <td>0</td>\n",
       "      <td>0</td>\n",
       "      <td>0</td>\n",
       "      <td>0</td>\n",
       "      <td>0</td>\n",
       "      <td>0</td>\n",
       "      <td>...</td>\n",
       "      <td>13510</td>\n",
       "      <td>13555</td>\n",
       "      <td>13569</td>\n",
       "      <td>13569</td>\n",
       "      <td>13569</td>\n",
       "      <td>13569</td>\n",
       "      <td>13569</td>\n",
       "      <td>13569</td>\n",
       "      <td>13569</td>\n",
       "      <td>13664</td>\n",
       "    </tr>\n",
       "    <tr>\n",
       "      <th>Angola</th>\n",
       "      <td>-11.20270</td>\n",
       "      <td>17.873900</td>\n",
       "      <td>0</td>\n",
       "      <td>0</td>\n",
       "      <td>0</td>\n",
       "      <td>0</td>\n",
       "      <td>0</td>\n",
       "      <td>0</td>\n",
       "      <td>0</td>\n",
       "      <td>0</td>\n",
       "      <td>...</td>\n",
       "      <td>30637</td>\n",
       "      <td>30787</td>\n",
       "      <td>31045</td>\n",
       "      <td>31438</td>\n",
       "      <td>31661</td>\n",
       "      <td>31909</td>\n",
       "      <td>32149</td>\n",
       "      <td>32441</td>\n",
       "      <td>32623</td>\n",
       "      <td>32933</td>\n",
       "    </tr>\n",
       "  </tbody>\n",
       "</table>\n",
       "<p>5 rows × 492 columns</p>\n",
       "</div>"
      ],
      "text/plain": [
       "                     Lat       Long  1/22/20  1/23/20  1/24/20  1/25/20  \\\n",
       "Country/Region                                                            \n",
       "Afghanistan     33.93911  67.709953        0        0        0        0   \n",
       "Albania         41.15330  20.168300        0        0        0        0   \n",
       "Algeria         28.03390   1.659600        0        0        0        0   \n",
       "Andorra         42.50630   1.521800        0        0        0        0   \n",
       "Angola         -11.20270  17.873900        0        0        0        0   \n",
       "\n",
       "                1/26/20  1/27/20  1/28/20  1/29/20  ...  5/16/21  5/17/21  \\\n",
       "Country/Region                                      ...                     \n",
       "Afghanistan           0        0        0        0  ...    63484    63598   \n",
       "Albania               0        0        0        0  ...   132015   132032   \n",
       "Algeria               0        0        0        0  ...   125311   125485   \n",
       "Andorra               0        0        0        0  ...    13510    13555   \n",
       "Angola                0        0        0        0  ...    30637    30787   \n",
       "\n",
       "                5/18/21  5/19/21  5/20/21  5/21/21  5/22/21  5/23/21  5/24/21  \\\n",
       "Country/Region                                                                  \n",
       "Afghanistan       63819    64122    64575    65080    65486    65728    66275   \n",
       "Albania          132071   132095   132118   132153   132176   132209   132215   \n",
       "Algeria          125693   125896   126156   126434   126651   126860   127107   \n",
       "Andorra           13569    13569    13569    13569    13569    13569    13569   \n",
       "Angola            31045    31438    31661    31909    32149    32441    32623   \n",
       "\n",
       "                5/25/21  \n",
       "Country/Region           \n",
       "Afghanistan       66903  \n",
       "Albania          132229  \n",
       "Algeria          127361  \n",
       "Andorra           13664  \n",
       "Angola            32933  \n",
       "\n",
       "[5 rows x 492 columns]"
      ]
     },
     "execution_count": 11,
     "metadata": {},
     "output_type": "execute_result"
    }
   ],
   "source": [
    "# Número de pessoas confirmadas por país\n",
    "confirmed_by_country = confirmed.groupby(\"Country/Region\").sum()\n",
    "confirmed_by_country.head()"
   ]
  },
  {
   "cell_type": "code",
   "execution_count": 12,
   "metadata": {},
   "outputs": [
    {
     "data": {
      "text/plain": [
       "Lat       -1.423500e+01\n",
       "Long      -5.192530e+01\n",
       "1/22/20    0.000000e+00\n",
       "1/23/20    0.000000e+00\n",
       "1/24/20    0.000000e+00\n",
       "               ...     \n",
       "5/21/21    1.597095e+07\n",
       "5/22/21    1.604744e+07\n",
       "5/23/21    1.608326e+07\n",
       "5/24/21    1.612076e+07\n",
       "5/25/21    1.619421e+07\n",
       "Name: Brazil, Length: 492, dtype: float64"
      ]
     },
     "execution_count": 12,
     "metadata": {},
     "output_type": "execute_result"
    }
   ],
   "source": [
    "confirmed_by_country.loc[\"Brazil\"]"
   ]
  },
  {
   "cell_type": "code",
   "execution_count": 13,
   "metadata": {},
   "outputs": [
    {
     "data": {
      "text/plain": [
       "<function matplotlib.pyplot.show(close=None, block=None)>"
      ]
     },
     "execution_count": 13,
     "metadata": {},
     "output_type": "execute_result"
    },
    {
     "data": {
      "image/png": "[encoded data removed]",
      "text/plain": [
       "<Figure size 720x360 with 1 Axes>"
      ]
     },
     "metadata": {
      "needs_background": "light"
     },
     "output_type": "display_data"
    }
   ],
   "source": [
    "# Pegando o valor dois em diante (ignora lat e long)\n",
    "plt.figure(figsize = (10,5))\n",
    "confirmed_by_country.loc[\"China\"][2:].plot()\n",
    "plt.title(\"Casos confirmados na China\")\n",
    "plt.show"
   ]
  },
  {
   "cell_type": "code",
   "execution_count": 14,
   "metadata": {},
   "outputs": [
    {
     "data": {
      "text/plain": [
       "<function matplotlib.pyplot.show(close=None, block=None)>"
      ]
     },
     "execution_count": 14,
     "metadata": {},
     "output_type": "execute_result"
    },
    {
     "data": {
      "image/png": "[encoded data removed]",
      "text/plain": [
       "<Figure size 720x360 with 1 Axes>"
      ]
     },
     "metadata": {
      "needs_background": "light"
     },
     "output_type": "display_data"
    }
   ],
   "source": [
    "plt.figure(figsize = (10,5))\n",
    "confirmed_by_country.loc[\"Brazil\"][2:].plot()\n",
    "plt.title(\"Casos confirmados no Brasil\")\n",
    "plt.show"
   ]
  },
  {
   "cell_type": "code",
   "execution_count": 15,
   "metadata": {},
   "outputs": [
    {
     "data": {
      "text/plain": [
       "Text(0.5, 1.0, 'Novos casos na China')"
      ]
     },
     "execution_count": 15,
     "metadata": {},
     "output_type": "execute_result"
    },
    {
     "data": {
      "image/png": "[encoded data removed]",
      "text/plain": [
       "<Figure size 720x360 with 1 Axes>"
      ]
     },
     "metadata": {
      "needs_background": "light"
     },
     "output_type": "display_data"
    }
   ],
   "source": [
    "# Mostrando o número de novos casos (diferença um dia para o outro)\n",
    "plt.figure(figsize = (10,5))\n",
    "new_cases_china = confirmed_by_country.loc[\"China\"][2:].diff().dropna()\n",
    "new_cases_china.plot()\n",
    "plt.title(\"Novos casos na China\")"
   ]
  },
  {
   "cell_type": "code",
   "execution_count": 16,
   "metadata": {},
   "outputs": [
    {
     "data": {
      "text/plain": [
       "Text(0.5, 1.0, 'Novos casos no Brasil')"
      ]
     },
     "execution_count": 16,
     "metadata": {},
     "output_type": "execute_result"
    },
    {
     "data": {
      "image/png": "[encoded data removed]",
      "text/plain": [
       "<Figure size 720x360 with 1 Axes>"
      ]
     },
     "metadata": {
      "needs_background": "light"
     },
     "output_type": "display_data"
    }
   ],
   "source": [
    "plt.figure(figsize = (10,5))\n",
    "new_cases_brazil = confirmed_by_country.loc[\"Brazil\"][2:].diff().dropna()\n",
    "new_cases_brazil.plot()\n",
    "plt.title(\"Novos casos no Brasil\")"
   ]
  },
  {
   "cell_type": "code",
   "execution_count": 17,
   "metadata": {},
   "outputs": [
    {
     "data": {
      "text/plain": [
       "Text(0.5, 1.0, 'Países com maior número de casos confirmados')"
      ]
     },
     "execution_count": 17,
     "metadata": {},
     "output_type": "execute_result"
    },
    {
     "data": {
      "image/png": "[encoded data removed]",
      "text/plain": [
       "<Figure size 720x360 with 1 Axes>"
      ]
     },
     "metadata": {
      "needs_background": "light"
     },
     "output_type": "display_data"
    }
   ],
   "source": [
    "plt.figure(figsize = (10,5))\n",
    "confirmed_by_country[last_date].sort_values(ascending = False)[0:10].plot(kind = 'bar')\n",
    "plt.title(\"Países com maior número de casos confirmados\")"
   ]
  },
  {
   "cell_type": "code",
   "execution_count": 18,
   "metadata": {},
   "outputs": [
    {
     "data": {
      "text/html": [
       "<div>\n",
       "<style scoped>\n",
       "    .dataframe tbody tr th:only-of-type {\n",
       "        vertical-align: middle;\n",
       "    }\n",
       "\n",
       "    .dataframe tbody tr th {\n",
       "        vertical-align: top;\n",
       "    }\n",
       "\n",
       "    .dataframe thead th {\n",
       "        text-align: right;\n",
       "    }\n",
       "</style>\n",
       "<table border=\"1\" class=\"dataframe\">\n",
       "  <thead>\n",
       "    <tr style=\"text-align: right;\">\n",
       "      <th></th>\n",
       "      <th>Province/State</th>\n",
       "      <th>Country/Region</th>\n",
       "      <th>Lat</th>\n",
       "      <th>Long</th>\n",
       "      <th>1/22/20</th>\n",
       "      <th>1/23/20</th>\n",
       "      <th>1/24/20</th>\n",
       "      <th>1/25/20</th>\n",
       "      <th>1/26/20</th>\n",
       "      <th>1/27/20</th>\n",
       "      <th>...</th>\n",
       "      <th>5/16/21</th>\n",
       "      <th>5/17/21</th>\n",
       "      <th>5/18/21</th>\n",
       "      <th>5/19/21</th>\n",
       "      <th>5/20/21</th>\n",
       "      <th>5/21/21</th>\n",
       "      <th>5/22/21</th>\n",
       "      <th>5/23/21</th>\n",
       "      <th>5/24/21</th>\n",
       "      <th>5/25/21</th>\n",
       "    </tr>\n",
       "  </thead>\n",
       "  <tbody>\n",
       "    <tr>\n",
       "      <th>0</th>\n",
       "      <td>NaN</td>\n",
       "      <td>Afghanistan</td>\n",
       "      <td>33.93911</td>\n",
       "      <td>67.709953</td>\n",
       "      <td>0</td>\n",
       "      <td>0</td>\n",
       "      <td>0</td>\n",
       "      <td>0</td>\n",
       "      <td>0</td>\n",
       "      <td>0</td>\n",
       "      <td>...</td>\n",
       "      <td>2742</td>\n",
       "      <td>2745</td>\n",
       "      <td>2751</td>\n",
       "      <td>2762</td>\n",
       "      <td>2772</td>\n",
       "      <td>2782</td>\n",
       "      <td>2792</td>\n",
       "      <td>2802</td>\n",
       "      <td>2812</td>\n",
       "      <td>2836</td>\n",
       "    </tr>\n",
       "    <tr>\n",
       "      <th>1</th>\n",
       "      <td>NaN</td>\n",
       "      <td>Albania</td>\n",
       "      <td>41.15330</td>\n",
       "      <td>20.168300</td>\n",
       "      <td>0</td>\n",
       "      <td>0</td>\n",
       "      <td>0</td>\n",
       "      <td>0</td>\n",
       "      <td>0</td>\n",
       "      <td>0</td>\n",
       "      <td>...</td>\n",
       "      <td>2432</td>\n",
       "      <td>2435</td>\n",
       "      <td>2436</td>\n",
       "      <td>2438</td>\n",
       "      <td>2440</td>\n",
       "      <td>2441</td>\n",
       "      <td>2442</td>\n",
       "      <td>2444</td>\n",
       "      <td>2445</td>\n",
       "      <td>2447</td>\n",
       "    </tr>\n",
       "    <tr>\n",
       "      <th>2</th>\n",
       "      <td>NaN</td>\n",
       "      <td>Algeria</td>\n",
       "      <td>28.03390</td>\n",
       "      <td>1.659600</td>\n",
       "      <td>0</td>\n",
       "      <td>0</td>\n",
       "      <td>0</td>\n",
       "      <td>0</td>\n",
       "      <td>0</td>\n",
       "      <td>0</td>\n",
       "      <td>...</td>\n",
       "      <td>3374</td>\n",
       "      <td>3381</td>\n",
       "      <td>3388</td>\n",
       "      <td>3395</td>\n",
       "      <td>3401</td>\n",
       "      <td>3405</td>\n",
       "      <td>3411</td>\n",
       "      <td>3418</td>\n",
       "      <td>3426</td>\n",
       "      <td>3433</td>\n",
       "    </tr>\n",
       "    <tr>\n",
       "      <th>3</th>\n",
       "      <td>NaN</td>\n",
       "      <td>Andorra</td>\n",
       "      <td>42.50630</td>\n",
       "      <td>1.521800</td>\n",
       "      <td>0</td>\n",
       "      <td>0</td>\n",
       "      <td>0</td>\n",
       "      <td>0</td>\n",
       "      <td>0</td>\n",
       "      <td>0</td>\n",
       "      <td>...</td>\n",
       "      <td>127</td>\n",
       "      <td>127</td>\n",
       "      <td>127</td>\n",
       "      <td>127</td>\n",
       "      <td>127</td>\n",
       "      <td>127</td>\n",
       "      <td>127</td>\n",
       "      <td>127</td>\n",
       "      <td>127</td>\n",
       "      <td>127</td>\n",
       "    </tr>\n",
       "    <tr>\n",
       "      <th>4</th>\n",
       "      <td>NaN</td>\n",
       "      <td>Angola</td>\n",
       "      <td>-11.20270</td>\n",
       "      <td>17.873900</td>\n",
       "      <td>0</td>\n",
       "      <td>0</td>\n",
       "      <td>0</td>\n",
       "      <td>0</td>\n",
       "      <td>0</td>\n",
       "      <td>0</td>\n",
       "      <td>...</td>\n",
       "      <td>659</td>\n",
       "      <td>677</td>\n",
       "      <td>685</td>\n",
       "      <td>696</td>\n",
       "      <td>704</td>\n",
       "      <td>709</td>\n",
       "      <td>715</td>\n",
       "      <td>725</td>\n",
       "      <td>731</td>\n",
       "      <td>735</td>\n",
       "    </tr>\n",
       "  </tbody>\n",
       "</table>\n",
       "<p>5 rows × 494 columns</p>\n",
       "</div>"
      ],
      "text/plain": [
       "  Province/State Country/Region       Lat       Long  1/22/20  1/23/20  \\\n",
       "0            NaN    Afghanistan  33.93911  67.709953        0        0   \n",
       "1            NaN        Albania  41.15330  20.168300        0        0   \n",
       "2            NaN        Algeria  28.03390   1.659600        0        0   \n",
       "3            NaN        Andorra  42.50630   1.521800        0        0   \n",
       "4            NaN         Angola -11.20270  17.873900        0        0   \n",
       "\n",
       "   1/24/20  1/25/20  1/26/20  1/27/20  ...  5/16/21  5/17/21  5/18/21  \\\n",
       "0        0        0        0        0  ...     2742     2745     2751   \n",
       "1        0        0        0        0  ...     2432     2435     2436   \n",
       "2        0        0        0        0  ...     3374     3381     3388   \n",
       "3        0        0        0        0  ...      127      127      127   \n",
       "4        0        0        0        0  ...      659      677      685   \n",
       "\n",
       "   5/19/21  5/20/21  5/21/21  5/22/21  5/23/21  5/24/21  5/25/21  \n",
       "0     2762     2772     2782     2792     2802     2812     2836  \n",
       "1     2438     2440     2441     2442     2444     2445     2447  \n",
       "2     3395     3401     3405     3411     3418     3426     3433  \n",
       "3      127      127      127      127      127      127      127  \n",
       "4      696      704      709      715      725      731      735  \n",
       "\n",
       "[5 rows x 494 columns]"
      ]
     },
     "metadata": {},
     "output_type": "display_data"
    },
    {
     "data": {
      "text/html": [
       "<div>\n",
       "<style scoped>\n",
       "    .dataframe tbody tr th:only-of-type {\n",
       "        vertical-align: middle;\n",
       "    }\n",
       "\n",
       "    .dataframe tbody tr th {\n",
       "        vertical-align: top;\n",
       "    }\n",
       "\n",
       "    .dataframe thead th {\n",
       "        text-align: right;\n",
       "    }\n",
       "</style>\n",
       "<table border=\"1\" class=\"dataframe\">\n",
       "  <thead>\n",
       "    <tr style=\"text-align: right;\">\n",
       "      <th></th>\n",
       "      <th>Province/State</th>\n",
       "      <th>Country/Region</th>\n",
       "      <th>Lat</th>\n",
       "      <th>Long</th>\n",
       "      <th>1/22/20</th>\n",
       "      <th>1/23/20</th>\n",
       "      <th>1/24/20</th>\n",
       "      <th>1/25/20</th>\n",
       "      <th>1/26/20</th>\n",
       "      <th>1/27/20</th>\n",
       "      <th>...</th>\n",
       "      <th>5/16/21</th>\n",
       "      <th>5/17/21</th>\n",
       "      <th>5/18/21</th>\n",
       "      <th>5/19/21</th>\n",
       "      <th>5/20/21</th>\n",
       "      <th>5/21/21</th>\n",
       "      <th>5/22/21</th>\n",
       "      <th>5/23/21</th>\n",
       "      <th>5/24/21</th>\n",
       "      <th>5/25/21</th>\n",
       "    </tr>\n",
       "  </thead>\n",
       "  <tbody>\n",
       "    <tr>\n",
       "      <th>0</th>\n",
       "      <td>NaN</td>\n",
       "      <td>Afghanistan</td>\n",
       "      <td>33.93911</td>\n",
       "      <td>67.709953</td>\n",
       "      <td>0</td>\n",
       "      <td>0</td>\n",
       "      <td>0</td>\n",
       "      <td>0</td>\n",
       "      <td>0</td>\n",
       "      <td>0</td>\n",
       "      <td>...</td>\n",
       "      <td>54686</td>\n",
       "      <td>55010</td>\n",
       "      <td>55118</td>\n",
       "      <td>55529</td>\n",
       "      <td>55687</td>\n",
       "      <td>55790</td>\n",
       "      <td>55889</td>\n",
       "      <td>56035</td>\n",
       "      <td>56295</td>\n",
       "      <td>56518</td>\n",
       "    </tr>\n",
       "    <tr>\n",
       "      <th>1</th>\n",
       "      <td>NaN</td>\n",
       "      <td>Albania</td>\n",
       "      <td>41.15330</td>\n",
       "      <td>20.168300</td>\n",
       "      <td>0</td>\n",
       "      <td>0</td>\n",
       "      <td>0</td>\n",
       "      <td>0</td>\n",
       "      <td>0</td>\n",
       "      <td>0</td>\n",
       "      <td>...</td>\n",
       "      <td>124312</td>\n",
       "      <td>125419</td>\n",
       "      <td>126405</td>\n",
       "      <td>127240</td>\n",
       "      <td>127869</td>\n",
       "      <td>128425</td>\n",
       "      <td>128601</td>\n",
       "      <td>128732</td>\n",
       "      <td>128826</td>\n",
       "      <td>128907</td>\n",
       "    </tr>\n",
       "    <tr>\n",
       "      <th>2</th>\n",
       "      <td>NaN</td>\n",
       "      <td>Algeria</td>\n",
       "      <td>28.03390</td>\n",
       "      <td>1.659600</td>\n",
       "      <td>0</td>\n",
       "      <td>0</td>\n",
       "      <td>0</td>\n",
       "      <td>0</td>\n",
       "      <td>0</td>\n",
       "      <td>0</td>\n",
       "      <td>...</td>\n",
       "      <td>87359</td>\n",
       "      <td>87476</td>\n",
       "      <td>87609</td>\n",
       "      <td>87746</td>\n",
       "      <td>87902</td>\n",
       "      <td>88066</td>\n",
       "      <td>88208</td>\n",
       "      <td>88346</td>\n",
       "      <td>88497</td>\n",
       "      <td>88672</td>\n",
       "    </tr>\n",
       "    <tr>\n",
       "      <th>3</th>\n",
       "      <td>NaN</td>\n",
       "      <td>Andorra</td>\n",
       "      <td>42.50630</td>\n",
       "      <td>1.521800</td>\n",
       "      <td>0</td>\n",
       "      <td>0</td>\n",
       "      <td>0</td>\n",
       "      <td>0</td>\n",
       "      <td>0</td>\n",
       "      <td>0</td>\n",
       "      <td>...</td>\n",
       "      <td>13155</td>\n",
       "      <td>13211</td>\n",
       "      <td>13234</td>\n",
       "      <td>13234</td>\n",
       "      <td>13234</td>\n",
       "      <td>13234</td>\n",
       "      <td>13234</td>\n",
       "      <td>13234</td>\n",
       "      <td>13234</td>\n",
       "      <td>13263</td>\n",
       "    </tr>\n",
       "    <tr>\n",
       "      <th>4</th>\n",
       "      <td>NaN</td>\n",
       "      <td>Angola</td>\n",
       "      <td>-11.20270</td>\n",
       "      <td>17.873900</td>\n",
       "      <td>0</td>\n",
       "      <td>0</td>\n",
       "      <td>0</td>\n",
       "      <td>0</td>\n",
       "      <td>0</td>\n",
       "      <td>0</td>\n",
       "      <td>...</td>\n",
       "      <td>25715</td>\n",
       "      <td>25995</td>\n",
       "      <td>26013</td>\n",
       "      <td>26458</td>\n",
       "      <td>26483</td>\n",
       "      <td>26513</td>\n",
       "      <td>26775</td>\n",
       "      <td>26778</td>\n",
       "      <td>27087</td>\n",
       "      <td>27204</td>\n",
       "    </tr>\n",
       "  </tbody>\n",
       "</table>\n",
       "<p>5 rows × 494 columns</p>\n",
       "</div>"
      ],
      "text/plain": [
       "  Province/State Country/Region       Lat       Long  1/22/20  1/23/20  \\\n",
       "0            NaN    Afghanistan  33.93911  67.709953        0        0   \n",
       "1            NaN        Albania  41.15330  20.168300        0        0   \n",
       "2            NaN        Algeria  28.03390   1.659600        0        0   \n",
       "3            NaN        Andorra  42.50630   1.521800        0        0   \n",
       "4            NaN         Angola -11.20270  17.873900        0        0   \n",
       "\n",
       "   1/24/20  1/25/20  1/26/20  1/27/20  ...  5/16/21  5/17/21  5/18/21  \\\n",
       "0        0        0        0        0  ...    54686    55010    55118   \n",
       "1        0        0        0        0  ...   124312   125419   126405   \n",
       "2        0        0        0        0  ...    87359    87476    87609   \n",
       "3        0        0        0        0  ...    13155    13211    13234   \n",
       "4        0        0        0        0  ...    25715    25995    26013   \n",
       "\n",
       "   5/19/21  5/20/21  5/21/21  5/22/21  5/23/21  5/24/21  5/25/21  \n",
       "0    55529    55687    55790    55889    56035    56295    56518  \n",
       "1   127240   127869   128425   128601   128732   128826   128907  \n",
       "2    87746    87902    88066    88208    88346    88497    88672  \n",
       "3    13234    13234    13234    13234    13234    13234    13263  \n",
       "4    26458    26483    26513    26775    26778    27087    27204  \n",
       "\n",
       "[5 rows x 494 columns]"
      ]
     },
     "metadata": {},
     "output_type": "display_data"
    }
   ],
   "source": [
    "# Dados de mortes e casos recuperados de Covid-19\n",
    "deaths = pd.read_csv(\"https://raw.githubusercontent.com/CSSEGISandData/COVID-19/master/csse_covid_19_data/csse_covid_19_time_series/time_series_covid19_deaths_global.csv\")\n",
    "recovered = pd.read_csv(\"https://raw.githubusercontent.com/CSSEGISandData/COVID-19/master/csse_covid_19_data/csse_covid_19_time_series/time_series_covid19_recovered_global.csv\")\n",
    "display(deaths.head())\n",
    "display(recovered.head())"
   ]
  },
  {
   "cell_type": "markdown",
   "metadata": {},
   "source": [
    "## Começando a trabalhar com as três fontes de dados (confirmed, deaths e recovered)"
   ]
  },
  {
   "cell_type": "code",
   "execution_count": 19,
   "metadata": {},
   "outputs": [],
   "source": [
    "# Função que retorna os últimos dados dos países\n",
    "# Como pegar a última coluna\n",
    "def latest_by_country(data):\n",
    "    return data.groupby(\"Country/Region\").sum().iloc[:,-1]"
   ]
  },
  {
   "cell_type": "code",
   "execution_count": 20,
   "metadata": {},
   "outputs": [
    {
     "data": {
      "text/html": [
       "<div>\n",
       "<style scoped>\n",
       "    .dataframe tbody tr th:only-of-type {\n",
       "        vertical-align: middle;\n",
       "    }\n",
       "\n",
       "    .dataframe tbody tr th {\n",
       "        vertical-align: top;\n",
       "    }\n",
       "\n",
       "    .dataframe thead th {\n",
       "        text-align: right;\n",
       "    }\n",
       "</style>\n",
       "<table border=\"1\" class=\"dataframe\">\n",
       "  <thead>\n",
       "    <tr style=\"text-align: right;\">\n",
       "      <th></th>\n",
       "      <th>confirmed</th>\n",
       "      <th>deaths</th>\n",
       "      <th>recovered</th>\n",
       "    </tr>\n",
       "    <tr>\n",
       "      <th>Country/Region</th>\n",
       "      <th></th>\n",
       "      <th></th>\n",
       "      <th></th>\n",
       "    </tr>\n",
       "  </thead>\n",
       "  <tbody>\n",
       "    <tr>\n",
       "      <th>Afghanistan</th>\n",
       "      <td>66903</td>\n",
       "      <td>2836</td>\n",
       "      <td>56518</td>\n",
       "    </tr>\n",
       "    <tr>\n",
       "      <th>Albania</th>\n",
       "      <td>132229</td>\n",
       "      <td>2447</td>\n",
       "      <td>128907</td>\n",
       "    </tr>\n",
       "    <tr>\n",
       "      <th>Algeria</th>\n",
       "      <td>127361</td>\n",
       "      <td>3433</td>\n",
       "      <td>88672</td>\n",
       "    </tr>\n",
       "    <tr>\n",
       "      <th>Andorra</th>\n",
       "      <td>13664</td>\n",
       "      <td>127</td>\n",
       "      <td>13263</td>\n",
       "    </tr>\n",
       "    <tr>\n",
       "      <th>Angola</th>\n",
       "      <td>32933</td>\n",
       "      <td>735</td>\n",
       "      <td>27204</td>\n",
       "    </tr>\n",
       "  </tbody>\n",
       "</table>\n",
       "</div>"
      ],
      "text/plain": [
       "                confirmed  deaths  recovered\n",
       "Country/Region                              \n",
       "Afghanistan         66903    2836      56518\n",
       "Albania            132229    2447     128907\n",
       "Algeria            127361    3433      88672\n",
       "Andorra             13664     127      13263\n",
       "Angola              32933     735      27204"
      ]
     },
     "execution_count": 20,
     "metadata": {},
     "output_type": "execute_result"
    }
   ],
   "source": [
    "latest_data = [latest_by_country(confirmed), latest_by_country(deaths), latest_by_country(recovered)]\n",
    "combined = pd.concat(latest_data, axis = 1)\n",
    "combined.columns = [\"confirmed\", \"deaths\", \"recovered\"]\n",
    "combined.head()"
   ]
  },
  {
   "cell_type": "code",
   "execution_count": 21,
   "metadata": {},
   "outputs": [
    {
     "name": "stdout",
     "output_type": "stream",
     "text": [
      "2.0767502398968163\n",
      "2.0344987815698663\n"
     ]
    }
   ],
   "source": [
    "# A Taxa de Letalidade é expressa em porcentagem\n",
    "sum_up = combined.sum()\n",
    "lethality_rate_1 = (sum_up[\"deaths\"] / sum_up[\"confirmed\"])\n",
    "lethality_rate_2 = sum_up[\"deaths\"] / (sum_up[\"confirmed\"] + sum_up[\"deaths\"])\n",
    "print(lethality_rate_1 * 100)\n",
    "print(lethality_rate_2 * 100)"
   ]
  },
  {
   "cell_type": "code",
   "execution_count": 22,
   "metadata": {},
   "outputs": [
    {
     "data": {
      "text/html": [
       "<div>\n",
       "<style scoped>\n",
       "    .dataframe tbody tr th:only-of-type {\n",
       "        vertical-align: middle;\n",
       "    }\n",
       "\n",
       "    .dataframe tbody tr th {\n",
       "        vertical-align: top;\n",
       "    }\n",
       "\n",
       "    .dataframe thead th {\n",
       "        text-align: right;\n",
       "    }\n",
       "</style>\n",
       "<table border=\"1\" class=\"dataframe\">\n",
       "  <thead>\n",
       "    <tr style=\"text-align: right;\">\n",
       "      <th></th>\n",
       "      <th>confirmed</th>\n",
       "      <th>deaths</th>\n",
       "      <th>recovered</th>\n",
       "      <th>lethality_rate_1</th>\n",
       "      <th>lethality_rate_2</th>\n",
       "    </tr>\n",
       "    <tr>\n",
       "      <th>Country/Region</th>\n",
       "      <th></th>\n",
       "      <th></th>\n",
       "      <th></th>\n",
       "      <th></th>\n",
       "      <th></th>\n",
       "    </tr>\n",
       "  </thead>\n",
       "  <tbody>\n",
       "    <tr>\n",
       "      <th>Afghanistan</th>\n",
       "      <td>66903</td>\n",
       "      <td>2836</td>\n",
       "      <td>56518</td>\n",
       "      <td>4.238973</td>\n",
       "      <td>4.066591</td>\n",
       "    </tr>\n",
       "    <tr>\n",
       "      <th>Albania</th>\n",
       "      <td>132229</td>\n",
       "      <td>2447</td>\n",
       "      <td>128907</td>\n",
       "      <td>1.850577</td>\n",
       "      <td>1.816953</td>\n",
       "    </tr>\n",
       "    <tr>\n",
       "      <th>Algeria</th>\n",
       "      <td>127361</td>\n",
       "      <td>3433</td>\n",
       "      <td>88672</td>\n",
       "      <td>2.695488</td>\n",
       "      <td>2.624738</td>\n",
       "    </tr>\n",
       "    <tr>\n",
       "      <th>Andorra</th>\n",
       "      <td>13664</td>\n",
       "      <td>127</td>\n",
       "      <td>13263</td>\n",
       "      <td>0.929450</td>\n",
       "      <td>0.920890</td>\n",
       "    </tr>\n",
       "    <tr>\n",
       "      <th>Angola</th>\n",
       "      <td>32933</td>\n",
       "      <td>735</td>\n",
       "      <td>27204</td>\n",
       "      <td>2.231804</td>\n",
       "      <td>2.183082</td>\n",
       "    </tr>\n",
       "  </tbody>\n",
       "</table>\n",
       "</div>"
      ],
      "text/plain": [
       "                confirmed  deaths  recovered  lethality_rate_1  \\\n",
       "Country/Region                                                   \n",
       "Afghanistan         66903    2836      56518          4.238973   \n",
       "Albania            132229    2447     128907          1.850577   \n",
       "Algeria            127361    3433      88672          2.695488   \n",
       "Andorra             13664     127      13263          0.929450   \n",
       "Angola              32933     735      27204          2.231804   \n",
       "\n",
       "                lethality_rate_2  \n",
       "Country/Region                    \n",
       "Afghanistan             4.066591  \n",
       "Albania                 1.816953  \n",
       "Algeria                 2.624738  \n",
       "Andorra                 0.920890  \n",
       "Angola                  2.183082  "
      ]
     },
     "execution_count": 22,
     "metadata": {},
     "output_type": "execute_result"
    }
   ],
   "source": [
    "lethality_rate_1 = combined[\"deaths\"] / combined[\"confirmed\"] * 100\n",
    "lethality_rate_2 = combined[\"deaths\"] / (combined[\"confirmed\"] + combined[\"deaths\"]) * 100\n",
    "combined[\"lethality_rate_1\"] = lethality_rate_1\n",
    "combined[\"lethality_rate_2\"] = lethality_rate_2\n",
    "combined.head()"
   ]
  },
  {
   "cell_type": "code",
   "execution_count": 23,
   "metadata": {},
   "outputs": [
    {
     "data": {
      "text/html": [
       "<div>\n",
       "<style scoped>\n",
       "    .dataframe tbody tr th:only-of-type {\n",
       "        vertical-align: middle;\n",
       "    }\n",
       "\n",
       "    .dataframe tbody tr th {\n",
       "        vertical-align: top;\n",
       "    }\n",
       "\n",
       "    .dataframe thead th {\n",
       "        text-align: right;\n",
       "    }\n",
       "</style>\n",
       "<table border=\"1\" class=\"dataframe\">\n",
       "  <thead>\n",
       "    <tr style=\"text-align: right;\">\n",
       "      <th></th>\n",
       "      <th>confirmed</th>\n",
       "      <th>deaths</th>\n",
       "      <th>recovered</th>\n",
       "      <th>lethality_rate_1</th>\n",
       "      <th>lethality_rate_2</th>\n",
       "    </tr>\n",
       "    <tr>\n",
       "      <th>Country/Region</th>\n",
       "      <th></th>\n",
       "      <th></th>\n",
       "      <th></th>\n",
       "      <th></th>\n",
       "      <th></th>\n",
       "    </tr>\n",
       "  </thead>\n",
       "  <tbody>\n",
       "    <tr>\n",
       "      <th>Vanuatu</th>\n",
       "      <td>4</td>\n",
       "      <td>1</td>\n",
       "      <td>3</td>\n",
       "      <td>25.000000</td>\n",
       "      <td>20.000000</td>\n",
       "    </tr>\n",
       "    <tr>\n",
       "      <th>MS Zaandam</th>\n",
       "      <td>9</td>\n",
       "      <td>2</td>\n",
       "      <td>7</td>\n",
       "      <td>22.222222</td>\n",
       "      <td>18.181818</td>\n",
       "    </tr>\n",
       "    <tr>\n",
       "      <th>Yemen</th>\n",
       "      <td>6670</td>\n",
       "      <td>1311</td>\n",
       "      <td>3273</td>\n",
       "      <td>19.655172</td>\n",
       "      <td>16.426513</td>\n",
       "    </tr>\n",
       "    <tr>\n",
       "      <th>Mexico</th>\n",
       "      <td>2399790</td>\n",
       "      <td>221960</td>\n",
       "      <td>1917958</td>\n",
       "      <td>9.249143</td>\n",
       "      <td>8.466101</td>\n",
       "    </tr>\n",
       "    <tr>\n",
       "      <th>Sudan</th>\n",
       "      <td>34889</td>\n",
       "      <td>2600</td>\n",
       "      <td>27949</td>\n",
       "      <td>7.452206</td>\n",
       "      <td>6.935368</td>\n",
       "    </tr>\n",
       "    <tr>\n",
       "      <th>Syria</th>\n",
       "      <td>24252</td>\n",
       "      <td>1745</td>\n",
       "      <td>21569</td>\n",
       "      <td>7.195283</td>\n",
       "      <td>6.712313</td>\n",
       "    </tr>\n",
       "    <tr>\n",
       "      <th>Egypt</th>\n",
       "      <td>256124</td>\n",
       "      <td>14807</td>\n",
       "      <td>187691</td>\n",
       "      <td>5.781184</td>\n",
       "      <td>5.465229</td>\n",
       "    </tr>\n",
       "    <tr>\n",
       "      <th>Somalia</th>\n",
       "      <td>14632</td>\n",
       "      <td>767</td>\n",
       "      <td>6685</td>\n",
       "      <td>5.241935</td>\n",
       "      <td>4.980843</td>\n",
       "    </tr>\n",
       "    <tr>\n",
       "      <th>Ecuador</th>\n",
       "      <td>420167</td>\n",
       "      <td>20227</td>\n",
       "      <td>366425</td>\n",
       "      <td>4.814038</td>\n",
       "      <td>4.592933</td>\n",
       "    </tr>\n",
       "    <tr>\n",
       "      <th>China</th>\n",
       "      <td>102905</td>\n",
       "      <td>4846</td>\n",
       "      <td>97672</td>\n",
       "      <td>4.709198</td>\n",
       "      <td>4.497406</td>\n",
       "    </tr>\n",
       "  </tbody>\n",
       "</table>\n",
       "</div>"
      ],
      "text/plain": [
       "                confirmed  deaths  recovered  lethality_rate_1  \\\n",
       "Country/Region                                                   \n",
       "Vanuatu                 4       1          3         25.000000   \n",
       "MS Zaandam              9       2          7         22.222222   \n",
       "Yemen                6670    1311       3273         19.655172   \n",
       "Mexico            2399790  221960    1917958          9.249143   \n",
       "Sudan               34889    2600      27949          7.452206   \n",
       "Syria               24252    1745      21569          7.195283   \n",
       "Egypt              256124   14807     187691          5.781184   \n",
       "Somalia             14632     767       6685          5.241935   \n",
       "Ecuador            420167   20227     366425          4.814038   \n",
       "China              102905    4846      97672          4.709198   \n",
       "\n",
       "                lethality_rate_2  \n",
       "Country/Region                    \n",
       "Vanuatu                20.000000  \n",
       "MS Zaandam             18.181818  \n",
       "Yemen                  16.426513  \n",
       "Mexico                  8.466101  \n",
       "Sudan                   6.935368  \n",
       "Syria                   6.712313  \n",
       "Egypt                   5.465229  \n",
       "Somalia                 4.980843  \n",
       "Ecuador                 4.592933  \n",
       "China                   4.497406  "
      ]
     },
     "execution_count": 23,
     "metadata": {},
     "output_type": "execute_result"
    }
   ],
   "source": [
    "# Ordenar pela letalidade\n",
    "combined.sort_values(\"lethality_rate_1\", ascending = False).head(10)"
   ]
  },
  {
   "cell_type": "code",
   "execution_count": 24,
   "metadata": {},
   "outputs": [
    {
     "data": {
      "text/plain": [
       "<AxesSubplot:xlabel='confirmed', ylabel='lethality_rate_1'>"
      ]
     },
     "execution_count": 24,
     "metadata": {},
     "output_type": "execute_result"
    },
    {
     "data": {
      "image/png": "[encoded data removed]",
      "text/plain": [
       "<Figure size 720x360 with 1 Axes>"
      ]
     },
     "metadata": {
      "needs_background": "light"
     },
     "output_type": "display_data"
    }
   ],
   "source": [
    "plt.figure(figsize = (10,5))\n",
    "sns.scatterplot(data = combined, x=\"confirmed\", y=\"lethality_rate_1\")"
   ]
  },
  {
   "cell_type": "code",
   "execution_count": 25,
   "metadata": {},
   "outputs": [
    {
     "data": {
      "text/plain": [
       "<AxesSubplot:xlabel='confirmed', ylabel='lethality_rate_1'>"
      ]
     },
     "execution_count": 25,
     "metadata": {},
     "output_type": "execute_result"
    },
    {
     "data": {
      "image/png": "[encoded data removed]",
      "text/plain": [
       "<Figure size 720x360 with 1 Axes>"
      ]
     },
     "metadata": {
      "needs_background": "light"
     },
     "output_type": "display_data"
    }
   ],
   "source": [
    "plt.figure(figsize = (10,5))\n",
    "sns.scatterplot(data = combined.query(\"confirmed > 40\"), x=\"confirmed\", y=\"lethality_rate_1\")"
   ]
  },
  {
   "cell_type": "code",
   "execution_count": 26,
   "metadata": {},
   "outputs": [
    {
     "data": {
      "text/plain": [
       "<AxesSubplot:xlabel='confirmed', ylabel='lethality_rate_2'>"
      ]
     },
     "execution_count": 26,
     "metadata": {},
     "output_type": "execute_result"
    },
    {
     "data": {
      "image/png": "[encoded data removed]",
      "text/plain": [
       "<Figure size 720x360 with 1 Axes>"
      ]
     },
     "metadata": {
      "needs_background": "light"
     },
     "output_type": "display_data"
    }
   ],
   "source": [
    "plt.figure(figsize = (10,5))\n",
    "sns.scatterplot(data = combined.query(\"recovered > 40\"), x=\"confirmed\", y=\"lethality_rate_2\")"
   ]
  },
  {
   "cell_type": "code",
   "execution_count": 27,
   "metadata": {},
   "outputs": [
    {
     "data": {
      "text/plain": [
       "<AxesSubplot:xlabel='lethality_rate_1', ylabel='Count'>"
      ]
     },
     "execution_count": 27,
     "metadata": {},
     "output_type": "execute_result"
    },
    {
     "data": {
      "image/png": "[encoded data removed]",
      "text/plain": [
       "<Figure size 720x360 with 1 Axes>"
      ]
     },
     "metadata": {
      "needs_background": "light"
     },
     "output_type": "display_data"
    }
   ],
   "source": [
    "plt.figure(figsize = (10,5))\n",
    "sns.histplot(combined.query(\"recovered > 40\")[\"lethality_rate_1\"])"
   ]
  },
  {
   "cell_type": "code",
   "execution_count": 28,
   "metadata": {},
   "outputs": [
    {
     "data": {
      "text/plain": [
       "<AxesSubplot:xlabel='lethality_rate_1', ylabel='Count'>"
      ]
     },
     "execution_count": 28,
     "metadata": {},
     "output_type": "execute_result"
    },
    {
     "data": {
      "image/png": "[encoded data removed]",
      "text/plain": [
       "<Figure size 720x360 with 1 Axes>"
      ]
     },
     "metadata": {
      "needs_background": "light"
     },
     "output_type": "display_data"
    }
   ],
   "source": [
    "plt.figure(figsize = (10,5))\n",
    "sns.histplot(combined.query(\"confirmed > 40\")[\"lethality_rate_1\"])"
   ]
  },
  {
   "cell_type": "code",
   "execution_count": 29,
   "metadata": {},
   "outputs": [
    {
     "data": {
      "text/plain": [
       "<AxesSubplot:xlabel='lethality_rate_2', ylabel='Count'>"
      ]
     },
     "execution_count": 29,
     "metadata": {},
     "output_type": "execute_result"
    },
    {
     "data": {
      "image/png": "[encoded data removed]",
      "text/plain": [
       "<Figure size 720x360 with 1 Axes>"
      ]
     },
     "metadata": {
      "needs_background": "light"
     },
     "output_type": "display_data"
    }
   ],
   "source": [
    "plt.figure(figsize = (10,5))\n",
    "sns.histplot(combined.query(\"recovered > 40\")[\"lethality_rate_2\"])"
   ]
  },
  {
   "cell_type": "code",
   "execution_count": 30,
   "metadata": {},
   "outputs": [
    {
     "data": {
      "text/html": [
       "<div>\n",
       "<style scoped>\n",
       "    .dataframe tbody tr th:only-of-type {\n",
       "        vertical-align: middle;\n",
       "    }\n",
       "\n",
       "    .dataframe tbody tr th {\n",
       "        vertical-align: top;\n",
       "    }\n",
       "\n",
       "    .dataframe thead th {\n",
       "        text-align: right;\n",
       "    }\n",
       "</style>\n",
       "<table border=\"1\" class=\"dataframe\">\n",
       "  <thead>\n",
       "    <tr style=\"text-align: right;\">\n",
       "      <th></th>\n",
       "      <th>confirmed</th>\n",
       "      <th>deaths</th>\n",
       "      <th>recovered</th>\n",
       "      <th>lethality_rate_1</th>\n",
       "      <th>lethality_rate_2</th>\n",
       "    </tr>\n",
       "    <tr>\n",
       "      <th>Country/Region</th>\n",
       "      <th></th>\n",
       "      <th></th>\n",
       "      <th></th>\n",
       "      <th></th>\n",
       "      <th></th>\n",
       "    </tr>\n",
       "  </thead>\n",
       "  <tbody>\n",
       "    <tr>\n",
       "      <th>Yemen</th>\n",
       "      <td>6670</td>\n",
       "      <td>1311</td>\n",
       "      <td>3273</td>\n",
       "      <td>19.655172</td>\n",
       "      <td>16.426513</td>\n",
       "    </tr>\n",
       "    <tr>\n",
       "      <th>Mexico</th>\n",
       "      <td>2399790</td>\n",
       "      <td>221960</td>\n",
       "      <td>1917958</td>\n",
       "      <td>9.249143</td>\n",
       "      <td>8.466101</td>\n",
       "    </tr>\n",
       "    <tr>\n",
       "      <th>Sudan</th>\n",
       "      <td>34889</td>\n",
       "      <td>2600</td>\n",
       "      <td>27949</td>\n",
       "      <td>7.452206</td>\n",
       "      <td>6.935368</td>\n",
       "    </tr>\n",
       "    <tr>\n",
       "      <th>Syria</th>\n",
       "      <td>24252</td>\n",
       "      <td>1745</td>\n",
       "      <td>21569</td>\n",
       "      <td>7.195283</td>\n",
       "      <td>6.712313</td>\n",
       "    </tr>\n",
       "    <tr>\n",
       "      <th>Egypt</th>\n",
       "      <td>256124</td>\n",
       "      <td>14807</td>\n",
       "      <td>187691</td>\n",
       "      <td>5.781184</td>\n",
       "      <td>5.465229</td>\n",
       "    </tr>\n",
       "    <tr>\n",
       "      <th>Somalia</th>\n",
       "      <td>14632</td>\n",
       "      <td>767</td>\n",
       "      <td>6685</td>\n",
       "      <td>5.241935</td>\n",
       "      <td>4.980843</td>\n",
       "    </tr>\n",
       "    <tr>\n",
       "      <th>Ecuador</th>\n",
       "      <td>420167</td>\n",
       "      <td>20227</td>\n",
       "      <td>366425</td>\n",
       "      <td>4.814038</td>\n",
       "      <td>4.592933</td>\n",
       "    </tr>\n",
       "    <tr>\n",
       "      <th>China</th>\n",
       "      <td>102905</td>\n",
       "      <td>4846</td>\n",
       "      <td>97672</td>\n",
       "      <td>4.709198</td>\n",
       "      <td>4.497406</td>\n",
       "    </tr>\n",
       "    <tr>\n",
       "      <th>Bosnia and Herzegovina</th>\n",
       "      <td>203513</td>\n",
       "      <td>9168</td>\n",
       "      <td>173187</td>\n",
       "      <td>4.504872</td>\n",
       "      <td>4.310681</td>\n",
       "    </tr>\n",
       "    <tr>\n",
       "      <th>Afghanistan</th>\n",
       "      <td>66903</td>\n",
       "      <td>2836</td>\n",
       "      <td>56518</td>\n",
       "      <td>4.238973</td>\n",
       "      <td>4.066591</td>\n",
       "    </tr>\n",
       "  </tbody>\n",
       "</table>\n",
       "</div>"
      ],
      "text/plain": [
       "                        confirmed  deaths  recovered  lethality_rate_1  \\\n",
       "Country/Region                                                           \n",
       "Yemen                        6670    1311       3273         19.655172   \n",
       "Mexico                    2399790  221960    1917958          9.249143   \n",
       "Sudan                       34889    2600      27949          7.452206   \n",
       "Syria                       24252    1745      21569          7.195283   \n",
       "Egypt                      256124   14807     187691          5.781184   \n",
       "Somalia                     14632     767       6685          5.241935   \n",
       "Ecuador                    420167   20227     366425          4.814038   \n",
       "China                      102905    4846      97672          4.709198   \n",
       "Bosnia and Herzegovina     203513    9168     173187          4.504872   \n",
       "Afghanistan                 66903    2836      56518          4.238973   \n",
       "\n",
       "                        lethality_rate_2  \n",
       "Country/Region                            \n",
       "Yemen                          16.426513  \n",
       "Mexico                          8.466101  \n",
       "Sudan                           6.935368  \n",
       "Syria                           6.712313  \n",
       "Egypt                           5.465229  \n",
       "Somalia                         4.980843  \n",
       "Ecuador                         4.592933  \n",
       "China                           4.497406  \n",
       "Bosnia and Herzegovina          4.310681  \n",
       "Afghanistan                     4.066591  "
      ]
     },
     "execution_count": 30,
     "metadata": {},
     "output_type": "execute_result"
    }
   ],
   "source": [
    "combined.sort_values(\"lethality_rate_1\", ascending=False).query(\"confirmed > 40\").head(10)"
   ]
  },
  {
   "cell_type": "markdown",
   "metadata": {},
   "source": [
    "## Comparando relatórios"
   ]
  },
  {
   "cell_type": "code",
   "execution_count": 31,
   "metadata": {},
   "outputs": [
    {
     "name": "stdout",
     "output_type": "stream",
     "text": [
      "2.980939568709458\n",
      "11.050760418724076\n"
     ]
    }
   ],
   "source": [
    "def latest_by_country_at(data, date):\n",
    "  return data.groupby(\"Country/Region\").sum()[date]\n",
    "\n",
    "\n",
    "latest_data = [latest_by_country_at(confirmed, '2/20/20'), latest_by_country_at(deaths, '2/20/20'), latest_by_country_at(recovered, '2/20/20')]\n",
    "combined_2_20_20 = pd.concat(latest_data, axis=1)\n",
    "combined_2_20_20.columns = [\"confirmed\", \"deaths\", \"recovered\"]\n",
    "\n",
    "sum_up = combined_2_20_20.loc[\"China\"]\n",
    "lethality_rate_1 = sum_up[\"deaths\"] / sum_up[\"confirmed\"]\n",
    "lethality_rate_2 = sum_up[\"deaths\"] / (sum_up[\"deaths\"] + sum_up[\"recovered\"])\n",
    "print(lethality_rate_1 * 100)\n",
    "print(lethality_rate_2 * 100)"
   ]
  },
  {
   "cell_type": "code",
   "execution_count": 32,
   "metadata": {},
   "outputs": [
    {
     "name": "stdout",
     "output_type": "stream",
     "text": [
      "6.079208996577389\n"
     ]
    },
    {
     "data": {
      "text/plain": [
       "confirmed    36814\n",
       "deaths        2238\n",
       "recovered    18014\n",
       "Name: China, dtype: int64"
      ]
     },
     "metadata": {},
     "output_type": "display_data"
    }
   ],
   "source": [
    "# Usando estimativa de 12 dias como período médio entre confirmação e morte ou recuperação\n",
    "latest_data = [latest_by_country_at(confirmed, '2/8/20'), latest_by_country_at(deaths, '2/20/20'), latest_by_country_at(recovered, '2/20/20')]\n",
    "combined_12 = pd.concat(latest_data, axis=1)\n",
    "combined_12.columns = [\"confirmed\", \"deaths\", \"recovered\"]\n",
    "\n",
    "sum_up = combined_12.loc[\"China\"]\n",
    "lethality_rate_3 = sum_up[\"deaths\"] / sum_up[\"confirmed\"]\n",
    "print(lethality_rate_3 * 100)\n",
    "display(sum_up)"
   ]
  },
  {
   "cell_type": "markdown",
   "metadata": {},
   "source": [
    "# Segunda parte"
   ]
  },
  {
   "cell_type": "code",
   "execution_count": 33,
   "metadata": {},
   "outputs": [
    {
     "data": {
      "text/plain": [
       "5/21/21    102833\n",
       "5/22/21    102853\n",
       "5/23/21    102873\n",
       "5/24/21    102890\n",
       "5/25/21    102905\n",
       "dtype: object"
      ]
     },
     "execution_count": 33,
     "metadata": {},
     "output_type": "execute_result"
    }
   ],
   "source": [
    "confirmed.set_index(\"Country/Region\").loc[\"China\"].sum().tail()"
   ]
  },
  {
   "cell_type": "markdown",
   "metadata": {},
   "source": [
    "## Comparando China com o resto do mundo"
   ]
  },
  {
   "cell_type": "code",
   "execution_count": 34,
   "metadata": {},
   "outputs": [
    {
     "data": {
      "text/plain": [
       "0    False\n",
       "1    False\n",
       "2    False\n",
       "3    False\n",
       "4    False\n",
       "Name: Country/Region, dtype: bool"
      ]
     },
     "execution_count": 34,
     "metadata": {},
     "output_type": "execute_result"
    }
   ],
   "source": [
    "is_china = confirmed[\"Country/Region\"] == \"China\"\n",
    "is_china.head()"
   ]
  },
  {
   "cell_type": "code",
   "execution_count": 35,
   "metadata": {
    "scrolled": true
   },
   "outputs": [
    {
     "data": {
      "text/html": [
       "<div>\n",
       "<style scoped>\n",
       "    .dataframe tbody tr th:only-of-type {\n",
       "        vertical-align: middle;\n",
       "    }\n",
       "\n",
       "    .dataframe tbody tr th {\n",
       "        vertical-align: top;\n",
       "    }\n",
       "\n",
       "    .dataframe thead th {\n",
       "        text-align: right;\n",
       "    }\n",
       "</style>\n",
       "<table border=\"1\" class=\"dataframe\">\n",
       "  <thead>\n",
       "    <tr style=\"text-align: right;\">\n",
       "      <th></th>\n",
       "      <th>Province/State</th>\n",
       "      <th>Country/Region</th>\n",
       "      <th>Lat</th>\n",
       "      <th>Long</th>\n",
       "      <th>1/22/20</th>\n",
       "      <th>1/23/20</th>\n",
       "      <th>1/24/20</th>\n",
       "      <th>1/25/20</th>\n",
       "      <th>1/26/20</th>\n",
       "      <th>1/27/20</th>\n",
       "      <th>...</th>\n",
       "      <th>5/17/21</th>\n",
       "      <th>5/18/21</th>\n",
       "      <th>5/19/21</th>\n",
       "      <th>5/20/21</th>\n",
       "      <th>5/21/21</th>\n",
       "      <th>5/22/21</th>\n",
       "      <th>5/23/21</th>\n",
       "      <th>5/24/21</th>\n",
       "      <th>5/25/21</th>\n",
       "      <th>is_china</th>\n",
       "    </tr>\n",
       "  </thead>\n",
       "  <tbody>\n",
       "    <tr>\n",
       "      <th>0</th>\n",
       "      <td>NaN</td>\n",
       "      <td>Afghanistan</td>\n",
       "      <td>33.93911</td>\n",
       "      <td>67.709953</td>\n",
       "      <td>0</td>\n",
       "      <td>0</td>\n",
       "      <td>0</td>\n",
       "      <td>0</td>\n",
       "      <td>0</td>\n",
       "      <td>0</td>\n",
       "      <td>...</td>\n",
       "      <td>63598</td>\n",
       "      <td>63819</td>\n",
       "      <td>64122</td>\n",
       "      <td>64575</td>\n",
       "      <td>65080</td>\n",
       "      <td>65486</td>\n",
       "      <td>65728</td>\n",
       "      <td>66275</td>\n",
       "      <td>66903</td>\n",
       "      <td>False</td>\n",
       "    </tr>\n",
       "    <tr>\n",
       "      <th>1</th>\n",
       "      <td>NaN</td>\n",
       "      <td>Albania</td>\n",
       "      <td>41.15330</td>\n",
       "      <td>20.168300</td>\n",
       "      <td>0</td>\n",
       "      <td>0</td>\n",
       "      <td>0</td>\n",
       "      <td>0</td>\n",
       "      <td>0</td>\n",
       "      <td>0</td>\n",
       "      <td>...</td>\n",
       "      <td>132032</td>\n",
       "      <td>132071</td>\n",
       "      <td>132095</td>\n",
       "      <td>132118</td>\n",
       "      <td>132153</td>\n",
       "      <td>132176</td>\n",
       "      <td>132209</td>\n",
       "      <td>132215</td>\n",
       "      <td>132229</td>\n",
       "      <td>False</td>\n",
       "    </tr>\n",
       "    <tr>\n",
       "      <th>2</th>\n",
       "      <td>NaN</td>\n",
       "      <td>Algeria</td>\n",
       "      <td>28.03390</td>\n",
       "      <td>1.659600</td>\n",
       "      <td>0</td>\n",
       "      <td>0</td>\n",
       "      <td>0</td>\n",
       "      <td>0</td>\n",
       "      <td>0</td>\n",
       "      <td>0</td>\n",
       "      <td>...</td>\n",
       "      <td>125485</td>\n",
       "      <td>125693</td>\n",
       "      <td>125896</td>\n",
       "      <td>126156</td>\n",
       "      <td>126434</td>\n",
       "      <td>126651</td>\n",
       "      <td>126860</td>\n",
       "      <td>127107</td>\n",
       "      <td>127361</td>\n",
       "      <td>False</td>\n",
       "    </tr>\n",
       "    <tr>\n",
       "      <th>3</th>\n",
       "      <td>NaN</td>\n",
       "      <td>Andorra</td>\n",
       "      <td>42.50630</td>\n",
       "      <td>1.521800</td>\n",
       "      <td>0</td>\n",
       "      <td>0</td>\n",
       "      <td>0</td>\n",
       "      <td>0</td>\n",
       "      <td>0</td>\n",
       "      <td>0</td>\n",
       "      <td>...</td>\n",
       "      <td>13555</td>\n",
       "      <td>13569</td>\n",
       "      <td>13569</td>\n",
       "      <td>13569</td>\n",
       "      <td>13569</td>\n",
       "      <td>13569</td>\n",
       "      <td>13569</td>\n",
       "      <td>13569</td>\n",
       "      <td>13664</td>\n",
       "      <td>False</td>\n",
       "    </tr>\n",
       "    <tr>\n",
       "      <th>4</th>\n",
       "      <td>NaN</td>\n",
       "      <td>Angola</td>\n",
       "      <td>-11.20270</td>\n",
       "      <td>17.873900</td>\n",
       "      <td>0</td>\n",
       "      <td>0</td>\n",
       "      <td>0</td>\n",
       "      <td>0</td>\n",
       "      <td>0</td>\n",
       "      <td>0</td>\n",
       "      <td>...</td>\n",
       "      <td>30787</td>\n",
       "      <td>31045</td>\n",
       "      <td>31438</td>\n",
       "      <td>31661</td>\n",
       "      <td>31909</td>\n",
       "      <td>32149</td>\n",
       "      <td>32441</td>\n",
       "      <td>32623</td>\n",
       "      <td>32933</td>\n",
       "      <td>False</td>\n",
       "    </tr>\n",
       "  </tbody>\n",
       "</table>\n",
       "<p>5 rows × 495 columns</p>\n",
       "</div>"
      ],
      "text/plain": [
       "  Province/State Country/Region       Lat       Long  1/22/20  1/23/20  \\\n",
       "0            NaN    Afghanistan  33.93911  67.709953        0        0   \n",
       "1            NaN        Albania  41.15330  20.168300        0        0   \n",
       "2            NaN        Algeria  28.03390   1.659600        0        0   \n",
       "3            NaN        Andorra  42.50630   1.521800        0        0   \n",
       "4            NaN         Angola -11.20270  17.873900        0        0   \n",
       "\n",
       "   1/24/20  1/25/20  1/26/20  1/27/20  ...  5/17/21  5/18/21  5/19/21  \\\n",
       "0        0        0        0        0  ...    63598    63819    64122   \n",
       "1        0        0        0        0  ...   132032   132071   132095   \n",
       "2        0        0        0        0  ...   125485   125693   125896   \n",
       "3        0        0        0        0  ...    13555    13569    13569   \n",
       "4        0        0        0        0  ...    30787    31045    31438   \n",
       "\n",
       "   5/20/21  5/21/21  5/22/21  5/23/21  5/24/21  5/25/21  is_china  \n",
       "0    64575    65080    65486    65728    66275    66903     False  \n",
       "1   132118   132153   132176   132209   132215   132229     False  \n",
       "2   126156   126434   126651   126860   127107   127361     False  \n",
       "3    13569    13569    13569    13569    13569    13664     False  \n",
       "4    31661    31909    32149    32441    32623    32933     False  \n",
       "\n",
       "[5 rows x 495 columns]"
      ]
     },
     "execution_count": 35,
     "metadata": {},
     "output_type": "execute_result"
    }
   ],
   "source": [
    "# Adicionando uma nova coluna\n",
    "confirmed[\"is_china\"] = is_china\n",
    "confirmed.head()"
   ]
  },
  {
   "cell_type": "code",
   "execution_count": 36,
   "metadata": {},
   "outputs": [
    {
     "data": {
      "text/html": [
       "<div>\n",
       "<style scoped>\n",
       "    .dataframe tbody tr th:only-of-type {\n",
       "        vertical-align: middle;\n",
       "    }\n",
       "\n",
       "    .dataframe tbody tr th {\n",
       "        vertical-align: top;\n",
       "    }\n",
       "\n",
       "    .dataframe thead th {\n",
       "        text-align: right;\n",
       "    }\n",
       "</style>\n",
       "<table border=\"1\" class=\"dataframe\">\n",
       "  <thead>\n",
       "    <tr style=\"text-align: right;\">\n",
       "      <th></th>\n",
       "      <th>Province/State</th>\n",
       "      <th>Country/Region</th>\n",
       "      <th>Lat</th>\n",
       "      <th>Long</th>\n",
       "      <th>1/22/20</th>\n",
       "      <th>1/23/20</th>\n",
       "      <th>1/24/20</th>\n",
       "      <th>1/25/20</th>\n",
       "      <th>1/26/20</th>\n",
       "      <th>1/27/20</th>\n",
       "      <th>...</th>\n",
       "      <th>5/17/21</th>\n",
       "      <th>5/18/21</th>\n",
       "      <th>5/19/21</th>\n",
       "      <th>5/20/21</th>\n",
       "      <th>5/21/21</th>\n",
       "      <th>5/22/21</th>\n",
       "      <th>5/23/21</th>\n",
       "      <th>5/24/21</th>\n",
       "      <th>5/25/21</th>\n",
       "      <th>is_china</th>\n",
       "    </tr>\n",
       "  </thead>\n",
       "  <tbody>\n",
       "    <tr>\n",
       "      <th>58</th>\n",
       "      <td>Anhui</td>\n",
       "      <td>China</td>\n",
       "      <td>31.8257</td>\n",
       "      <td>117.2264</td>\n",
       "      <td>1</td>\n",
       "      <td>9</td>\n",
       "      <td>15</td>\n",
       "      <td>39</td>\n",
       "      <td>60</td>\n",
       "      <td>70</td>\n",
       "      <td>...</td>\n",
       "      <td>1001</td>\n",
       "      <td>1001</td>\n",
       "      <td>1001</td>\n",
       "      <td>1001</td>\n",
       "      <td>1001</td>\n",
       "      <td>1002</td>\n",
       "      <td>1002</td>\n",
       "      <td>1004</td>\n",
       "      <td>1004</td>\n",
       "      <td>True</td>\n",
       "    </tr>\n",
       "    <tr>\n",
       "      <th>59</th>\n",
       "      <td>Beijing</td>\n",
       "      <td>China</td>\n",
       "      <td>40.1824</td>\n",
       "      <td>116.4142</td>\n",
       "      <td>14</td>\n",
       "      <td>22</td>\n",
       "      <td>36</td>\n",
       "      <td>41</td>\n",
       "      <td>68</td>\n",
       "      <td>80</td>\n",
       "      <td>...</td>\n",
       "      <td>1057</td>\n",
       "      <td>1057</td>\n",
       "      <td>1057</td>\n",
       "      <td>1057</td>\n",
       "      <td>1057</td>\n",
       "      <td>1058</td>\n",
       "      <td>1058</td>\n",
       "      <td>1058</td>\n",
       "      <td>1058</td>\n",
       "      <td>True</td>\n",
       "    </tr>\n",
       "    <tr>\n",
       "      <th>60</th>\n",
       "      <td>Chongqing</td>\n",
       "      <td>China</td>\n",
       "      <td>30.0572</td>\n",
       "      <td>107.8740</td>\n",
       "      <td>6</td>\n",
       "      <td>9</td>\n",
       "      <td>27</td>\n",
       "      <td>57</td>\n",
       "      <td>75</td>\n",
       "      <td>110</td>\n",
       "      <td>...</td>\n",
       "      <td>598</td>\n",
       "      <td>598</td>\n",
       "      <td>598</td>\n",
       "      <td>598</td>\n",
       "      <td>598</td>\n",
       "      <td>598</td>\n",
       "      <td>598</td>\n",
       "      <td>598</td>\n",
       "      <td>598</td>\n",
       "      <td>True</td>\n",
       "    </tr>\n",
       "    <tr>\n",
       "      <th>61</th>\n",
       "      <td>Fujian</td>\n",
       "      <td>China</td>\n",
       "      <td>26.0789</td>\n",
       "      <td>117.9874</td>\n",
       "      <td>1</td>\n",
       "      <td>5</td>\n",
       "      <td>10</td>\n",
       "      <td>18</td>\n",
       "      <td>35</td>\n",
       "      <td>59</td>\n",
       "      <td>...</td>\n",
       "      <td>599</td>\n",
       "      <td>599</td>\n",
       "      <td>599</td>\n",
       "      <td>610</td>\n",
       "      <td>610</td>\n",
       "      <td>612</td>\n",
       "      <td>613</td>\n",
       "      <td>615</td>\n",
       "      <td>616</td>\n",
       "      <td>True</td>\n",
       "    </tr>\n",
       "    <tr>\n",
       "      <th>62</th>\n",
       "      <td>Gansu</td>\n",
       "      <td>China</td>\n",
       "      <td>35.7518</td>\n",
       "      <td>104.2861</td>\n",
       "      <td>0</td>\n",
       "      <td>2</td>\n",
       "      <td>2</td>\n",
       "      <td>4</td>\n",
       "      <td>7</td>\n",
       "      <td>14</td>\n",
       "      <td>...</td>\n",
       "      <td>193</td>\n",
       "      <td>193</td>\n",
       "      <td>193</td>\n",
       "      <td>193</td>\n",
       "      <td>193</td>\n",
       "      <td>193</td>\n",
       "      <td>194</td>\n",
       "      <td>194</td>\n",
       "      <td>194</td>\n",
       "      <td>True</td>\n",
       "    </tr>\n",
       "  </tbody>\n",
       "</table>\n",
       "<p>5 rows × 495 columns</p>\n",
       "</div>"
      ],
      "text/plain": [
       "   Province/State Country/Region      Lat      Long  1/22/20  1/23/20  \\\n",
       "58          Anhui          China  31.8257  117.2264        1        9   \n",
       "59        Beijing          China  40.1824  116.4142       14       22   \n",
       "60      Chongqing          China  30.0572  107.8740        6        9   \n",
       "61         Fujian          China  26.0789  117.9874        1        5   \n",
       "62          Gansu          China  35.7518  104.2861        0        2   \n",
       "\n",
       "    1/24/20  1/25/20  1/26/20  1/27/20  ...  5/17/21  5/18/21  5/19/21  \\\n",
       "58       15       39       60       70  ...     1001     1001     1001   \n",
       "59       36       41       68       80  ...     1057     1057     1057   \n",
       "60       27       57       75      110  ...      598      598      598   \n",
       "61       10       18       35       59  ...      599      599      599   \n",
       "62        2        4        7       14  ...      193      193      193   \n",
       "\n",
       "    5/20/21  5/21/21  5/22/21  5/23/21  5/24/21  5/25/21  is_china  \n",
       "58     1001     1001     1002     1002     1004     1004      True  \n",
       "59     1057     1057     1058     1058     1058     1058      True  \n",
       "60      598      598      598      598      598      598      True  \n",
       "61      610      610      612      613      615      616      True  \n",
       "62      193      193      193      194      194      194      True  \n",
       "\n",
       "[5 rows x 495 columns]"
      ]
     },
     "execution_count": 36,
     "metadata": {},
     "output_type": "execute_result"
    }
   ],
   "source": [
    "# Mostrando somente valores da China\n",
    "confirmed.query(\"is_china\").head()"
   ]
  },
  {
   "cell_type": "code",
   "execution_count": 44,
   "metadata": {},
   "outputs": [
    {
     "data": {
      "text/plain": [
       "<AxesSubplot:xlabel='is_china'>"
      ]
     },
     "execution_count": 44,
     "metadata": {},
     "output_type": "execute_result"
    },
    {
     "data": {
      "image/png": "[encoded data removed]",
      "text/plain": [
       "<Figure size 432x288 with 1 Axes>"
      ]
     },
     "metadata": {
      "needs_background": "light"
     },
     "output_type": "display_data"
    }
   ],
   "source": [
    "# Agrupando por 'is_china' e comparando com o resto dos locais\n",
    "confirmed.groupby(\"is_china\").sum()[last_date].plot(kind = 'bar')"
   ]
  },
  {
   "cell_type": "code",
   "execution_count": 41,
   "metadata": {},
   "outputs": [
    {
     "data": {
      "text/html": [
       "<div>\n",
       "<style scoped>\n",
       "    .dataframe tbody tr th:only-of-type {\n",
       "        vertical-align: middle;\n",
       "    }\n",
       "\n",
       "    .dataframe tbody tr th {\n",
       "        vertical-align: top;\n",
       "    }\n",
       "\n",
       "    .dataframe thead th {\n",
       "        text-align: right;\n",
       "    }\n",
       "</style>\n",
       "<table border=\"1\" class=\"dataframe\">\n",
       "  <thead>\n",
       "    <tr style=\"text-align: right;\">\n",
       "      <th></th>\n",
       "      <th>Province/State</th>\n",
       "      <th>Country/Region</th>\n",
       "      <th>Lat</th>\n",
       "      <th>Long</th>\n",
       "      <th>1/22/20</th>\n",
       "      <th>1/23/20</th>\n",
       "      <th>1/24/20</th>\n",
       "      <th>1/25/20</th>\n",
       "      <th>1/26/20</th>\n",
       "      <th>1/27/20</th>\n",
       "      <th>...</th>\n",
       "      <th>5/18/21</th>\n",
       "      <th>5/19/21</th>\n",
       "      <th>5/20/21</th>\n",
       "      <th>5/21/21</th>\n",
       "      <th>5/22/21</th>\n",
       "      <th>5/23/21</th>\n",
       "      <th>5/24/21</th>\n",
       "      <th>5/25/21</th>\n",
       "      <th>is_china</th>\n",
       "      <th>is_china_label</th>\n",
       "    </tr>\n",
       "  </thead>\n",
       "  <tbody>\n",
       "    <tr>\n",
       "      <th>0</th>\n",
       "      <td>NaN</td>\n",
       "      <td>Afghanistan</td>\n",
       "      <td>33.93911</td>\n",
       "      <td>67.709953</td>\n",
       "      <td>0</td>\n",
       "      <td>0</td>\n",
       "      <td>0</td>\n",
       "      <td>0</td>\n",
       "      <td>0</td>\n",
       "      <td>0</td>\n",
       "      <td>...</td>\n",
       "      <td>63819</td>\n",
       "      <td>64122</td>\n",
       "      <td>64575</td>\n",
       "      <td>65080</td>\n",
       "      <td>65486</td>\n",
       "      <td>65728</td>\n",
       "      <td>66275</td>\n",
       "      <td>66903</td>\n",
       "      <td>False</td>\n",
       "      <td>Others</td>\n",
       "    </tr>\n",
       "    <tr>\n",
       "      <th>1</th>\n",
       "      <td>NaN</td>\n",
       "      <td>Albania</td>\n",
       "      <td>41.15330</td>\n",
       "      <td>20.168300</td>\n",
       "      <td>0</td>\n",
       "      <td>0</td>\n",
       "      <td>0</td>\n",
       "      <td>0</td>\n",
       "      <td>0</td>\n",
       "      <td>0</td>\n",
       "      <td>...</td>\n",
       "      <td>132071</td>\n",
       "      <td>132095</td>\n",
       "      <td>132118</td>\n",
       "      <td>132153</td>\n",
       "      <td>132176</td>\n",
       "      <td>132209</td>\n",
       "      <td>132215</td>\n",
       "      <td>132229</td>\n",
       "      <td>False</td>\n",
       "      <td>Others</td>\n",
       "    </tr>\n",
       "    <tr>\n",
       "      <th>2</th>\n",
       "      <td>NaN</td>\n",
       "      <td>Algeria</td>\n",
       "      <td>28.03390</td>\n",
       "      <td>1.659600</td>\n",
       "      <td>0</td>\n",
       "      <td>0</td>\n",
       "      <td>0</td>\n",
       "      <td>0</td>\n",
       "      <td>0</td>\n",
       "      <td>0</td>\n",
       "      <td>...</td>\n",
       "      <td>125693</td>\n",
       "      <td>125896</td>\n",
       "      <td>126156</td>\n",
       "      <td>126434</td>\n",
       "      <td>126651</td>\n",
       "      <td>126860</td>\n",
       "      <td>127107</td>\n",
       "      <td>127361</td>\n",
       "      <td>False</td>\n",
       "      <td>Others</td>\n",
       "    </tr>\n",
       "    <tr>\n",
       "      <th>3</th>\n",
       "      <td>NaN</td>\n",
       "      <td>Andorra</td>\n",
       "      <td>42.50630</td>\n",
       "      <td>1.521800</td>\n",
       "      <td>0</td>\n",
       "      <td>0</td>\n",
       "      <td>0</td>\n",
       "      <td>0</td>\n",
       "      <td>0</td>\n",
       "      <td>0</td>\n",
       "      <td>...</td>\n",
       "      <td>13569</td>\n",
       "      <td>13569</td>\n",
       "      <td>13569</td>\n",
       "      <td>13569</td>\n",
       "      <td>13569</td>\n",
       "      <td>13569</td>\n",
       "      <td>13569</td>\n",
       "      <td>13664</td>\n",
       "      <td>False</td>\n",
       "      <td>Others</td>\n",
       "    </tr>\n",
       "    <tr>\n",
       "      <th>4</th>\n",
       "      <td>NaN</td>\n",
       "      <td>Angola</td>\n",
       "      <td>-11.20270</td>\n",
       "      <td>17.873900</td>\n",
       "      <td>0</td>\n",
       "      <td>0</td>\n",
       "      <td>0</td>\n",
       "      <td>0</td>\n",
       "      <td>0</td>\n",
       "      <td>0</td>\n",
       "      <td>...</td>\n",
       "      <td>31045</td>\n",
       "      <td>31438</td>\n",
       "      <td>31661</td>\n",
       "      <td>31909</td>\n",
       "      <td>32149</td>\n",
       "      <td>32441</td>\n",
       "      <td>32623</td>\n",
       "      <td>32933</td>\n",
       "      <td>False</td>\n",
       "      <td>Others</td>\n",
       "    </tr>\n",
       "  </tbody>\n",
       "</table>\n",
       "<p>5 rows × 496 columns</p>\n",
       "</div>"
      ],
      "text/plain": [
       "  Province/State Country/Region       Lat       Long  1/22/20  1/23/20  \\\n",
       "0            NaN    Afghanistan  33.93911  67.709953        0        0   \n",
       "1            NaN        Albania  41.15330  20.168300        0        0   \n",
       "2            NaN        Algeria  28.03390   1.659600        0        0   \n",
       "3            NaN        Andorra  42.50630   1.521800        0        0   \n",
       "4            NaN         Angola -11.20270  17.873900        0        0   \n",
       "\n",
       "   1/24/20  1/25/20  1/26/20  1/27/20  ...  5/18/21  5/19/21  5/20/21  \\\n",
       "0        0        0        0        0  ...    63819    64122    64575   \n",
       "1        0        0        0        0  ...   132071   132095   132118   \n",
       "2        0        0        0        0  ...   125693   125896   126156   \n",
       "3        0        0        0        0  ...    13569    13569    13569   \n",
       "4        0        0        0        0  ...    31045    31438    31661   \n",
       "\n",
       "   5/21/21  5/22/21  5/23/21  5/24/21  5/25/21  is_china  is_china_label  \n",
       "0    65080    65486    65728    66275    66903     False          Others  \n",
       "1   132153   132176   132209   132215   132229     False          Others  \n",
       "2   126434   126651   126860   127107   127361     False          Others  \n",
       "3    13569    13569    13569    13569    13664     False          Others  \n",
       "4    31909    32149    32441    32623    32933     False          Others  \n",
       "\n",
       "[5 rows x 496 columns]"
      ]
     },
     "metadata": {},
     "output_type": "display_data"
    },
    {
     "data": {
      "text/html": [
       "<div>\n",
       "<style scoped>\n",
       "    .dataframe tbody tr th:only-of-type {\n",
       "        vertical-align: middle;\n",
       "    }\n",
       "\n",
       "    .dataframe tbody tr th {\n",
       "        vertical-align: top;\n",
       "    }\n",
       "\n",
       "    .dataframe thead th {\n",
       "        text-align: right;\n",
       "    }\n",
       "</style>\n",
       "<table border=\"1\" class=\"dataframe\">\n",
       "  <thead>\n",
       "    <tr style=\"text-align: right;\">\n",
       "      <th></th>\n",
       "      <th>Province/State</th>\n",
       "      <th>Country/Region</th>\n",
       "      <th>Lat</th>\n",
       "      <th>Long</th>\n",
       "      <th>1/22/20</th>\n",
       "      <th>1/23/20</th>\n",
       "      <th>1/24/20</th>\n",
       "      <th>1/25/20</th>\n",
       "      <th>1/26/20</th>\n",
       "      <th>1/27/20</th>\n",
       "      <th>...</th>\n",
       "      <th>5/18/21</th>\n",
       "      <th>5/19/21</th>\n",
       "      <th>5/20/21</th>\n",
       "      <th>5/21/21</th>\n",
       "      <th>5/22/21</th>\n",
       "      <th>5/23/21</th>\n",
       "      <th>5/24/21</th>\n",
       "      <th>5/25/21</th>\n",
       "      <th>is_china</th>\n",
       "      <th>is_china_label</th>\n",
       "    </tr>\n",
       "  </thead>\n",
       "  <tbody>\n",
       "    <tr>\n",
       "      <th>270</th>\n",
       "      <td>NaN</td>\n",
       "      <td>Vietnam</td>\n",
       "      <td>14.058324</td>\n",
       "      <td>108.277199</td>\n",
       "      <td>0</td>\n",
       "      <td>2</td>\n",
       "      <td>2</td>\n",
       "      <td>2</td>\n",
       "      <td>2</td>\n",
       "      <td>2</td>\n",
       "      <td>...</td>\n",
       "      <td>4512</td>\n",
       "      <td>4720</td>\n",
       "      <td>4809</td>\n",
       "      <td>4941</td>\n",
       "      <td>5119</td>\n",
       "      <td>5275</td>\n",
       "      <td>5404</td>\n",
       "      <td>5931</td>\n",
       "      <td>False</td>\n",
       "      <td>Others</td>\n",
       "    </tr>\n",
       "    <tr>\n",
       "      <th>271</th>\n",
       "      <td>NaN</td>\n",
       "      <td>West Bank and Gaza</td>\n",
       "      <td>31.952200</td>\n",
       "      <td>35.233200</td>\n",
       "      <td>0</td>\n",
       "      <td>0</td>\n",
       "      <td>0</td>\n",
       "      <td>0</td>\n",
       "      <td>0</td>\n",
       "      <td>0</td>\n",
       "      <td>...</td>\n",
       "      <td>304074</td>\n",
       "      <td>304532</td>\n",
       "      <td>304532</td>\n",
       "      <td>304968</td>\n",
       "      <td>305201</td>\n",
       "      <td>305201</td>\n",
       "      <td>305777</td>\n",
       "      <td>306334</td>\n",
       "      <td>False</td>\n",
       "      <td>Others</td>\n",
       "    </tr>\n",
       "    <tr>\n",
       "      <th>272</th>\n",
       "      <td>NaN</td>\n",
       "      <td>Yemen</td>\n",
       "      <td>15.552727</td>\n",
       "      <td>48.516388</td>\n",
       "      <td>0</td>\n",
       "      <td>0</td>\n",
       "      <td>0</td>\n",
       "      <td>0</td>\n",
       "      <td>0</td>\n",
       "      <td>0</td>\n",
       "      <td>...</td>\n",
       "      <td>6586</td>\n",
       "      <td>6593</td>\n",
       "      <td>6613</td>\n",
       "      <td>6632</td>\n",
       "      <td>6649</td>\n",
       "      <td>6658</td>\n",
       "      <td>6662</td>\n",
       "      <td>6670</td>\n",
       "      <td>False</td>\n",
       "      <td>Others</td>\n",
       "    </tr>\n",
       "    <tr>\n",
       "      <th>273</th>\n",
       "      <td>NaN</td>\n",
       "      <td>Zambia</td>\n",
       "      <td>-13.133897</td>\n",
       "      <td>27.849332</td>\n",
       "      <td>0</td>\n",
       "      <td>0</td>\n",
       "      <td>0</td>\n",
       "      <td>0</td>\n",
       "      <td>0</td>\n",
       "      <td>0</td>\n",
       "      <td>...</td>\n",
       "      <td>92520</td>\n",
       "      <td>92630</td>\n",
       "      <td>92754</td>\n",
       "      <td>92920</td>\n",
       "      <td>93106</td>\n",
       "      <td>93201</td>\n",
       "      <td>93279</td>\n",
       "      <td>93428</td>\n",
       "      <td>False</td>\n",
       "      <td>Others</td>\n",
       "    </tr>\n",
       "    <tr>\n",
       "      <th>274</th>\n",
       "      <td>NaN</td>\n",
       "      <td>Zimbabwe</td>\n",
       "      <td>-19.015438</td>\n",
       "      <td>29.154857</td>\n",
       "      <td>0</td>\n",
       "      <td>0</td>\n",
       "      <td>0</td>\n",
       "      <td>0</td>\n",
       "      <td>0</td>\n",
       "      <td>0</td>\n",
       "      <td>...</td>\n",
       "      <td>38595</td>\n",
       "      <td>38612</td>\n",
       "      <td>38635</td>\n",
       "      <td>38664</td>\n",
       "      <td>38679</td>\n",
       "      <td>38682</td>\n",
       "      <td>38696</td>\n",
       "      <td>38706</td>\n",
       "      <td>False</td>\n",
       "      <td>Others</td>\n",
       "    </tr>\n",
       "  </tbody>\n",
       "</table>\n",
       "<p>5 rows × 496 columns</p>\n",
       "</div>"
      ],
      "text/plain": [
       "    Province/State      Country/Region        Lat        Long  1/22/20  \\\n",
       "270            NaN             Vietnam  14.058324  108.277199        0   \n",
       "271            NaN  West Bank and Gaza  31.952200   35.233200        0   \n",
       "272            NaN               Yemen  15.552727   48.516388        0   \n",
       "273            NaN              Zambia -13.133897   27.849332        0   \n",
       "274            NaN            Zimbabwe -19.015438   29.154857        0   \n",
       "\n",
       "     1/23/20  1/24/20  1/25/20  1/26/20  1/27/20  ...  5/18/21  5/19/21  \\\n",
       "270        2        2        2        2        2  ...     4512     4720   \n",
       "271        0        0        0        0        0  ...   304074   304532   \n",
       "272        0        0        0        0        0  ...     6586     6593   \n",
       "273        0        0        0        0        0  ...    92520    92630   \n",
       "274        0        0        0        0        0  ...    38595    38612   \n",
       "\n",
       "     5/20/21  5/21/21  5/22/21  5/23/21  5/24/21  5/25/21  is_china  \\\n",
       "270     4809     4941     5119     5275     5404     5931     False   \n",
       "271   304532   304968   305201   305201   305777   306334     False   \n",
       "272     6613     6632     6649     6658     6662     6670     False   \n",
       "273    92754    92920    93106    93201    93279    93428     False   \n",
       "274    38635    38664    38679    38682    38696    38706     False   \n",
       "\n",
       "     is_china_label  \n",
       "270          Others  \n",
       "271          Others  \n",
       "272          Others  \n",
       "273          Others  \n",
       "274          Others  \n",
       "\n",
       "[5 rows x 496 columns]"
      ]
     },
     "metadata": {},
     "output_type": "display_data"
    }
   ],
   "source": [
    "import numpy as np\n",
    "\n",
    "# onde for verdadeiro, devolver \"China\". Se for falso, devolver \"Outros\"\n",
    "confirmed['is_china_label'] = np.where(confirmed[\"is_china\"], 'China', 'Others')\n",
    "display(confirmed.head())\n",
    "display(confirmed.tail())"
   ]
  },
  {
   "cell_type": "code",
   "execution_count": 45,
   "metadata": {},
   "outputs": [
    {
     "data": {
      "text/plain": [
       "Text(0.5, 1.0, 'Casos confirmados acumulados até 3/25/21')"
      ]
     },
     "execution_count": 45,
     "metadata": {},
     "output_type": "execute_result"
    },
    {
     "data": {
      "image/png": "[encoded data removed]",
      "text/plain": [
       "<Figure size 432x288 with 1 Axes>"
      ]
     },
     "metadata": {
      "needs_background": "light"
     },
     "output_type": "display_data"
    }
   ],
   "source": [
    "confirmed.groupby(\"is_china_label\").sum()[last_date].plot(kind='bar')\n",
    "plt.title(f\"Casos confirmados acumulados até {last_date}\")"
   ]
  },
  {
   "cell_type": "markdown",
   "metadata": {},
   "source": [
    "### Analisando o crescimento dos casos"
   ]
  },
  {
   "cell_type": "code",
   "execution_count": 46,
   "metadata": {},
   "outputs": [
    {
     "data": {
      "image/png": "[encoded data removed]",
      "text/plain": [
       "<Figure size 432x288 with 1 Axes>"
      ]
     },
     "metadata": {
      "needs_background": "light"
     },
     "output_type": "display_data"
    }
   ],
   "source": [
    "summed = confirmed.groupby(\"is_china_label\").sum()\n",
    "summed[\"delta\"] = summed[\"5/25/21\"] - summed[\"5/24/21\"] # pegando os novos casos entre duas datas\n",
    "summed[\"delta\"].plot(kind='bar')\n",
    "plt.title(f\"Novos casos confirmados em {last_date}\")\n",
    "plt.show()"
   ]
  },
  {
   "cell_type": "code",
   "execution_count": 49,
   "metadata": {},
   "outputs": [
    {
     "data": {
      "text/html": [
       "<div>\n",
       "<style scoped>\n",
       "    .dataframe tbody tr th:only-of-type {\n",
       "        vertical-align: middle;\n",
       "    }\n",
       "\n",
       "    .dataframe tbody tr th {\n",
       "        vertical-align: top;\n",
       "    }\n",
       "\n",
       "    .dataframe thead th {\n",
       "        text-align: right;\n",
       "    }\n",
       "</style>\n",
       "<table border=\"1\" class=\"dataframe\">\n",
       "  <thead>\n",
       "    <tr style=\"text-align: right;\">\n",
       "      <th>is_china_label</th>\n",
       "      <th>China</th>\n",
       "      <th>Others</th>\n",
       "    </tr>\n",
       "  </thead>\n",
       "  <tbody>\n",
       "    <tr>\n",
       "      <th>Lat</th>\n",
       "      <td>1085.2923</td>\n",
       "      <td>4520.709250</td>\n",
       "    </tr>\n",
       "    <tr>\n",
       "      <th>Long</th>\n",
       "      <td>3688.9377</td>\n",
       "      <td>2597.745414</td>\n",
       "    </tr>\n",
       "    <tr>\n",
       "      <th>1/22/20</th>\n",
       "      <td>548.0000</td>\n",
       "      <td>9.000000</td>\n",
       "    </tr>\n",
       "    <tr>\n",
       "      <th>1/23/20</th>\n",
       "      <td>643.0000</td>\n",
       "      <td>12.000000</td>\n",
       "    </tr>\n",
       "    <tr>\n",
       "      <th>1/24/20</th>\n",
       "      <td>920.0000</td>\n",
       "      <td>21.000000</td>\n",
       "    </tr>\n",
       "  </tbody>\n",
       "</table>\n",
       "</div>"
      ],
      "text/plain": [
       "is_china_label      China       Others\n",
       "Lat             1085.2923  4520.709250\n",
       "Long            3688.9377  2597.745414\n",
       "1/22/20          548.0000     9.000000\n",
       "1/23/20          643.0000    12.000000\n",
       "1/24/20          920.0000    21.000000"
      ]
     },
     "execution_count": 49,
     "metadata": {},
     "output_type": "execute_result"
    }
   ],
   "source": [
    "# trocar linha e coluna de lugar\n",
    "summed.T.head()"
   ]
  },
  {
   "cell_type": "code",
   "execution_count": 54,
   "metadata": {},
   "outputs": [
    {
     "data": {
      "image/png": "[encoded data removed]",
      "text/plain": [
       "<Figure size 432x288 with 1 Axes>"
      ]
     },
     "metadata": {
      "needs_background": "light"
     },
     "output_type": "display_data"
    }
   ],
   "source": [
    "summed.T[2:-2].plot()\n",
    "plt.title(\"Desenvolvimento de casos confirmados através do tempo\")\n",
    "plt.show()"
   ]
  },
  {
   "cell_type": "code",
   "execution_count": 62,
   "metadata": {},
   "outputs": [
    {
     "data": {
      "image/png": "[encoded data removed]",
      "text/plain": [
       "<Figure size 432x288 with 1 Axes>"
      ]
     },
     "metadata": {
      "needs_background": "light"
     },
     "output_type": "display_data"
    }
   ],
   "source": [
    "differences = summed.T[2:-2].diff().dropna()\n",
    "differences.plot()\n",
    "plt.title(\"Casos novos com o decorrer do tempo\")\n",
    "plt.show()"
   ]
  },
  {
   "cell_type": "code",
   "execution_count": null,
   "metadata": {},
   "outputs": [],
   "source": []
  }
 ],
 "metadata": {
  "kernelspec": {
   "display_name": "Python 3",
   "language": "python",
   "name": "python3"
  },
  "language_info": {
   "codemirror_mode": {
    "name": "ipython",
    "version": 3
   },
   "file_extension": ".py",
   "mimetype": "text/x-python",
   "name": "python",
   "nbconvert_exporter": "python",
   "pygments_lexer": "ipython3",
   "version": "3.8.5"
  },
  "widgets": {
   "application/vnd.jupyter.widget-state+json": {
    "state": {},
    "version_major": 2,
    "version_minor": 0
   }
  }
 },
 "nbformat": 4,
 "nbformat_minor": 2
}
